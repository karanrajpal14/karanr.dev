{
 "cells": [
  {
   "cell_type": "markdown",
   "metadata": {
    "colab_type": "text",
    "id": "D3CcuWXNmycT"
   },
   "source": [
    "# Predict rating of review using BoardGameGeek Reviews dataset\n",
    "\n",
    "**The goal of this project is to use the corpus of reviews present in this dataset, learn the reviews and their corresponding rating.**\n",
    "\n",
    "**Once the model is trained using the review data, we ask the user to input a new review and predict the rating of that review.**\n",
    "\n",
    "We begin by importing all the basic libraries:"
   ]
  },
  {
   "cell_type": "code",
   "execution_count": 0,
   "metadata": {
    "colab": {},
    "colab_type": "code",
    "id": "RtXAALBKnNKF"
   },
   "outputs": [],
   "source": [
    "!pip install -q pandas numpy nltk scikit-learn matplotlib seaborn wordcloud ipython"
   ]
  },
  {
   "cell_type": "code",
   "execution_count": 2,
   "metadata": {
    "colab": {
     "base_uri": "https://localhost:8080/",
     "height": 34
    },
    "colab_type": "code",
    "id": "UBkZnlsDkpGW",
    "outputId": "ab6b0842-b709-41b8-dd0b-d19808bf2ae7"
   },
   "outputs": [
    {
     "data": {
      "text/plain": [
       "True"
      ]
     },
     "execution_count": 2,
     "metadata": {
      "tags": []
     },
     "output_type": "execute_result"
    }
   ],
   "source": [
    "import random\n",
    "import gc\n",
    "import re\n",
    "import string\n",
    "import pickle\n",
    "import os\n",
    "import warnings\n",
    "warnings.simplefilter(action='ignore', category=FutureWarning)\n",
    "\n",
    "import numpy as np\n",
    "import pandas as pd\n",
    "from IPython.display import display, HTML\n",
    "\n",
    "from sklearn.metrics import confusion_matrix, classification_report, accuracy_score\n",
    "from sklearn.model_selection import train_test_split, KFold\n",
    "from sklearn.naive_bayes import MultinomialNB\n",
    "from sklearn.linear_model import LogisticRegression, LinearRegression\n",
    "from sklearn.feature_extraction.text import TfidfVectorizer\n",
    "\n",
    "import seaborn as sns\n",
    "from matplotlib import pyplot as plt\n",
    "\n",
    "import nltk\n",
    "from nltk.corpus import stopwords\n",
    "nltk.download(['words', 'stopwords', 'wordnet'], quiet=True)"
   ]
  },
  {
   "cell_type": "code",
   "execution_count": 3,
   "metadata": {
    "colab": {
     "base_uri": "https://localhost:8080/",
     "height": 34
    },
    "colab_type": "code",
    "id": "Jm4zyx8MdkTO",
    "outputId": "7256b698-5c78-476f-b172-979c4e8c2cc5"
   },
   "outputs": [
    {
     "name": "stdout",
     "output_type": "stream",
     "text": [
      "Drive already mounted at /content/drive; to attempt to forcibly remount, call drive.mount(\"/content/drive\", force_remount=True).\n"
     ]
    }
   ],
   "source": [
    "from google.colab import drive\n",
    "drive.mount('/content/drive')"
   ]
  },
  {
   "cell_type": "markdown",
   "metadata": {
    "colab_type": "text",
    "id": "PFs0D8X4nbCz"
   },
   "source": [
    "Here we define the paths of the dataset and the pickle files\n",
    "\n",
    "We will be pickling our dataset after every major step due to save time\n",
    "\n",
    "Due to the sheer amount of data we have, it does take time to do pre-processing\n",
    "\n",
    "Also, I will be invoking the garbage collector often just to save memory as we need every bit of it due to the volume of input data"
   ]
  },
  {
   "cell_type": "code",
   "execution_count": 0,
   "metadata": {
    "colab": {},
    "colab_type": "code",
    "id": "2uaMvsWKmuwC"
   },
   "outputs": [],
   "source": [
    "DATA_DIR = \"/content/drive/My Drive/Colab Notebooks/data/\"\n",
    "\n",
    "DATASET = DATA_DIR + \"bgg-13m-reviews.csv\"\n",
    "\n",
    "REVIEWS_PICKLE = DATA_DIR + \"reviews.pkl\"\n",
    "REVIEWS_DATA_CHANGED = False\n",
    "\n",
    "CLEAN_TEXT_PICKLE = DATA_DIR + \"clean_text.pkl\"\n",
    "LEMMATIZED_PICKLE = DATA_DIR + \"lemmatized.pkl\"\n",
    "STOPWORDS_PICKLE = DATA_DIR + \"stopwords.pkl\"\n",
    "CLEANED_PICKLE = DATA_DIR + \"cleaned_reviews.pkl\"\n",
    "\n",
    "MODEL_PICKLE = DATA_DIR + \"model.pkl\"\n",
    "VOCABULARY_PICKLE = DATA_DIR + \"vocab.pkl\""
   ]
  },
  {
   "cell_type": "markdown",
   "metadata": {
    "colab_type": "text",
    "id": "jM6zGRMZngL1"
   },
   "source": [
    "## Loading the data\n",
    "\n",
    "Now that we've got the formalities out of our way, let's start exploring our dataset and see how we can solve this problem.\n",
    "\n",
    "First, we need to load the dataset like so:"
   ]
  },
  {
   "cell_type": "code",
   "execution_count": 5,
   "metadata": {
    "colab": {
     "base_uri": "https://localhost:8080/",
     "height": 436
    },
    "colab_type": "code",
    "id": "4Wlh2Ogynjz3",
    "outputId": "2c9dcd42-ca7b-494a-88eb-4009bbe6f0d9"
   },
   "outputs": [
    {
     "name": "stdout",
     "output_type": "stream",
     "text": [
      "Pickled reviews found. Loading from pickle file.\n"
     ]
    },
    {
     "data": {
      "text/html": [
       "<div>\n",
       "<style scoped>\n",
       "    .dataframe tbody tr th:only-of-type {\n",
       "        vertical-align: middle;\n",
       "    }\n",
       "\n",
       "    .dataframe tbody tr th {\n",
       "        vertical-align: top;\n",
       "    }\n",
       "\n",
       "    .dataframe thead th {\n",
       "        text-align: right;\n",
       "    }\n",
       "</style>\n",
       "<table border=\"1\" class=\"dataframe\">\n",
       "  <thead>\n",
       "    <tr style=\"text-align: right;\">\n",
       "      <th></th>\n",
       "      <th>comment</th>\n",
       "      <th>rating</th>\n",
       "    </tr>\n",
       "  </thead>\n",
       "  <tbody>\n",
       "    <tr>\n",
       "      <th>0</th>\n",
       "      <td>NaN</td>\n",
       "      <td>6.5</td>\n",
       "    </tr>\n",
       "    <tr>\n",
       "      <th>1</th>\n",
       "      <td>NaN</td>\n",
       "      <td>8.0</td>\n",
       "    </tr>\n",
       "    <tr>\n",
       "      <th>2</th>\n",
       "      <td>NaN</td>\n",
       "      <td>8.0</td>\n",
       "    </tr>\n",
       "    <tr>\n",
       "      <th>3</th>\n",
       "      <td>NaN</td>\n",
       "      <td>7.0</td>\n",
       "    </tr>\n",
       "    <tr>\n",
       "      <th>4</th>\n",
       "      <td>http://boardgamers.ro/saboteur-recenzie/</td>\n",
       "      <td>6.0</td>\n",
       "    </tr>\n",
       "    <tr>\n",
       "      <th>...</th>\n",
       "      <td>...</td>\n",
       "      <td>...</td>\n",
       "    </tr>\n",
       "    <tr>\n",
       "      <th>13170068</th>\n",
       "      <td>\"Solid deck-builder in which you need to strat...</td>\n",
       "      <td>6.5</td>\n",
       "    </tr>\n",
       "    <tr>\n",
       "      <th>13170069</th>\n",
       "      <td>I adore this game. Not only is it an incredibl...</td>\n",
       "      <td>10.0</td>\n",
       "    </tr>\n",
       "    <tr>\n",
       "      <th>13170070</th>\n",
       "      <td>NaN</td>\n",
       "      <td>9.0</td>\n",
       "    </tr>\n",
       "    <tr>\n",
       "      <th>13170071</th>\n",
       "      <td>NaN</td>\n",
       "      <td>6.0</td>\n",
       "    </tr>\n",
       "    <tr>\n",
       "      <th>13170072</th>\n",
       "      <td>Still the easiest game to get to the table. Es...</td>\n",
       "      <td>6.0</td>\n",
       "    </tr>\n",
       "  </tbody>\n",
       "</table>\n",
       "<p>13170073 rows × 2 columns</p>\n",
       "</div>"
      ],
      "text/plain": [
       "                                                    comment  rating\n",
       "0                                                       NaN     6.5\n",
       "1                                                       NaN     8.0\n",
       "2                                                       NaN     8.0\n",
       "3                                                       NaN     7.0\n",
       "4                  http://boardgamers.ro/saboteur-recenzie/     6.0\n",
       "...                                                     ...     ...\n",
       "13170068  \"Solid deck-builder in which you need to strat...     6.5\n",
       "13170069  I adore this game. Not only is it an incredibl...    10.0\n",
       "13170070                                                NaN     9.0\n",
       "13170071                                                NaN     6.0\n",
       "13170072  Still the easiest game to get to the table. Es...     6.0\n",
       "\n",
       "[13170073 rows x 2 columns]"
      ]
     },
     "metadata": {
      "tags": []
     },
     "output_type": "display_data"
    }
   ],
   "source": [
    "reviews = pd.DataFrame()\n",
    "\n",
    "if os.path.isfile(REVIEWS_PICKLE) or REVIEWS_DATA_CHANGED:\n",
    "    print('Pickled reviews found. Loading from pickle file.')\n",
    "    reviews = pd.read_pickle(REVIEWS_PICKLE, compression=\"gzip\")\n",
    "else:\n",
    "    print(\"Reading reviews csv\")\n",
    "    reviews = pd.read_csv(DATASET, usecols=['comment', 'rating'])\n",
    "    print(\"Pickling dataset\")\n",
    "    reviews.to_pickle(REVIEWS_PICKLE, compression=\"gzip\")\n",
    "\n",
    "reviews = reviews.reindex(columns=['comment', 'rating'])\n",
    "\n",
    "reviews = reviews.sample(frac=1, random_state=3).reset_index(drop=True)\n",
    "\n",
    "gc.collect()\n",
    "display(reviews)"
   ]
  },
  {
   "cell_type": "markdown",
   "metadata": {
    "colab_type": "text",
    "id": "wYT_ZKYXoAHj"
   },
   "source": [
    "## Dropping rows with empty reviews\n",
    "\n",
    "Great! We've got our dataset loaded.\n",
    "\n",
    "Also, consecutive runs should be faster because we've pickled the data\n",
    "\n",
    "As we can see, we've got several rows with no review and just a rating\n",
    "\n",
    "We will be removing this rows as we cannot use them"
   ]
  },
  {
   "cell_type": "code",
   "execution_count": 6,
   "metadata": {
    "colab": {
     "base_uri": "https://localhost:8080/",
     "height": 453
    },
    "colab_type": "code",
    "id": "zASPBXlXn_Nl",
    "outputId": "b67540af-3165-45ed-afe3-7de30f6d9a5c"
   },
   "outputs": [
    {
     "name": "stdout",
     "output_type": "stream",
     "text": [
      "Dropping 10531901 rows from dataset\n",
      "We now have 2638172 reviews remaining\n"
     ]
    },
    {
     "data": {
      "text/html": [
       "<div>\n",
       "<style scoped>\n",
       "    .dataframe tbody tr th:only-of-type {\n",
       "        vertical-align: middle;\n",
       "    }\n",
       "\n",
       "    .dataframe tbody tr th {\n",
       "        vertical-align: top;\n",
       "    }\n",
       "\n",
       "    .dataframe thead th {\n",
       "        text-align: right;\n",
       "    }\n",
       "</style>\n",
       "<table border=\"1\" class=\"dataframe\">\n",
       "  <thead>\n",
       "    <tr style=\"text-align: right;\">\n",
       "      <th></th>\n",
       "      <th>comment</th>\n",
       "      <th>rating</th>\n",
       "    </tr>\n",
       "  </thead>\n",
       "  <tbody>\n",
       "    <tr>\n",
       "      <th>0</th>\n",
       "      <td>http://boardgamers.ro/saboteur-recenzie/</td>\n",
       "      <td>6.0</td>\n",
       "    </tr>\n",
       "    <tr>\n",
       "      <th>1</th>\n",
       "      <td>A nice family game but a little light for my o...</td>\n",
       "      <td>5.0</td>\n",
       "    </tr>\n",
       "    <tr>\n",
       "      <th>2</th>\n",
       "      <td>\"This was the first modern board game that my ...</td>\n",
       "      <td>8.0</td>\n",
       "    </tr>\n",
       "    <tr>\n",
       "      <th>3</th>\n",
       "      <td>Great two player game. In fact, how did Knizia...</td>\n",
       "      <td>9.0</td>\n",
       "    </tr>\n",
       "    <tr>\n",
       "      <th>4</th>\n",
       "      <td>Risk but with more pieces.</td>\n",
       "      <td>5.0</td>\n",
       "    </tr>\n",
       "    <tr>\n",
       "      <th>...</th>\n",
       "      <td>...</td>\n",
       "      <td>...</td>\n",
       "    </tr>\n",
       "    <tr>\n",
       "      <th>2638167</th>\n",
       "      <td>Great light game. Theme and simplicity make it...</td>\n",
       "      <td>7.0</td>\n",
       "    </tr>\n",
       "    <tr>\n",
       "      <th>2638168</th>\n",
       "      <td>Detailed board  All sleeved</td>\n",
       "      <td>9.0</td>\n",
       "    </tr>\n",
       "    <tr>\n",
       "      <th>2638169</th>\n",
       "      <td>\"Solid deck-builder in which you need to strat...</td>\n",
       "      <td>6.5</td>\n",
       "    </tr>\n",
       "    <tr>\n",
       "      <th>2638170</th>\n",
       "      <td>I adore this game. Not only is it an incredibl...</td>\n",
       "      <td>10.0</td>\n",
       "    </tr>\n",
       "    <tr>\n",
       "      <th>2638171</th>\n",
       "      <td>Still the easiest game to get to the table. Es...</td>\n",
       "      <td>6.0</td>\n",
       "    </tr>\n",
       "  </tbody>\n",
       "</table>\n",
       "<p>2638172 rows × 2 columns</p>\n",
       "</div>"
      ],
      "text/plain": [
       "                                                   comment  rating\n",
       "0                 http://boardgamers.ro/saboteur-recenzie/     6.0\n",
       "1        A nice family game but a little light for my o...     5.0\n",
       "2        \"This was the first modern board game that my ...     8.0\n",
       "3        Great two player game. In fact, how did Knizia...     9.0\n",
       "4                               Risk but with more pieces.     5.0\n",
       "...                                                    ...     ...\n",
       "2638167  Great light game. Theme and simplicity make it...     7.0\n",
       "2638168                        Detailed board  All sleeved     9.0\n",
       "2638169  \"Solid deck-builder in which you need to strat...     6.5\n",
       "2638170  I adore this game. Not only is it an incredibl...    10.0\n",
       "2638171  Still the easiest game to get to the table. Es...     6.0\n",
       "\n",
       "[2638172 rows x 2 columns]"
      ]
     },
     "metadata": {
      "tags": []
     },
     "output_type": "display_data"
    }
   ],
   "source": [
    "empty_reviews = reviews.comment.isna().sum()\n",
    "print(\"Dropping {} rows from dataset\".format(empty_reviews))\n",
    "\n",
    "reviews.dropna(subset=['comment'], inplace=True)\n",
    "reviews = reviews.reset_index(drop=True)\n",
    "\n",
    "print(\"We now have {} reviews remaining\".format(reviews.shape[0]))\n",
    "\n",
    "gc.collect()\n",
    "display(reviews)"
   ]
  },
  {
   "cell_type": "markdown",
   "metadata": {
    "colab_type": "text",
    "id": "F9We3K5UolXX"
   },
   "source": [
    "## Cleaning the reviews\n",
    "\n",
    "Wow! That was a huge difference. We've shed off about 10 million rows!\n",
    "\n",
    "Now, we need to begin cleaning up these reviews as they have a lot of redundant information and context.\n",
    "\n",
    "For this dataset, we will be removing the following patterns from the text:\n",
    "- Words less than 3 and more than 15 characters\n",
    "- Special characters\n",
    "- URLs\n",
    "- HTML tags\n",
    "- All kinds of redundant whitespaces\n",
    "- Words that have numbers between them\n",
    "- Words that begin or end with a number\n",
    "\n",
    "Once all this is done, we tokenize the reviews and save them in the dataframe"
   ]
  },
  {
   "cell_type": "code",
   "execution_count": 7,
   "metadata": {
    "colab": {
     "base_uri": "https://localhost:8080/",
     "height": 436
    },
    "colab_type": "code",
    "id": "cKkGpl8Hoolp",
    "outputId": "4e554f8e-4e97-4361-b457-fb3e8a081e31"
   },
   "outputs": [
    {
     "name": "stdout",
     "output_type": "stream",
     "text": [
      "Pickled clean text found. Loading from pickle file.\n"
     ]
    },
    {
     "data": {
      "text/html": [
       "<div>\n",
       "<style scoped>\n",
       "    .dataframe tbody tr th:only-of-type {\n",
       "        vertical-align: middle;\n",
       "    }\n",
       "\n",
       "    .dataframe tbody tr th {\n",
       "        vertical-align: top;\n",
       "    }\n",
       "\n",
       "    .dataframe thead th {\n",
       "        text-align: right;\n",
       "    }\n",
       "</style>\n",
       "<table border=\"1\" class=\"dataframe\">\n",
       "  <thead>\n",
       "    <tr style=\"text-align: right;\">\n",
       "      <th></th>\n",
       "      <th>comment</th>\n",
       "      <th>rating</th>\n",
       "    </tr>\n",
       "  </thead>\n",
       "  <tbody>\n",
       "    <tr>\n",
       "      <th>0</th>\n",
       "      <td>[currently, this, sits, list, favorite, game]</td>\n",
       "      <td>10.0</td>\n",
       "    </tr>\n",
       "    <tr>\n",
       "      <th>1</th>\n",
       "      <td>[know, says, how, many, plays, but, many, many...</td>\n",
       "      <td>10.0</td>\n",
       "    </tr>\n",
       "    <tr>\n",
       "      <th>2</th>\n",
       "      <td>[will, never, tire, this, game, awesome]</td>\n",
       "      <td>10.0</td>\n",
       "    </tr>\n",
       "    <tr>\n",
       "      <th>3</th>\n",
       "      <td>[this, probably, the, best, game, ever, played...</td>\n",
       "      <td>10.0</td>\n",
       "    </tr>\n",
       "    <tr>\n",
       "      <th>4</th>\n",
       "      <td>[fantastic, game, got, hooked, games, all, ove...</td>\n",
       "      <td>10.0</td>\n",
       "    </tr>\n",
       "    <tr>\n",
       "      <th>...</th>\n",
       "      <td>...</td>\n",
       "      <td>...</td>\n",
       "    </tr>\n",
       "    <tr>\n",
       "      <th>2638167</th>\n",
       "      <td>[horrible, party, game, dumping, this, one]</td>\n",
       "      <td>3.0</td>\n",
       "    </tr>\n",
       "    <tr>\n",
       "      <th>2638168</th>\n",
       "      <td>[difficult, build, anything, all, with, the, i...</td>\n",
       "      <td>3.0</td>\n",
       "    </tr>\n",
       "    <tr>\n",
       "      <th>2638169</th>\n",
       "      <td>[lego, created, version, pictionary, only, you...</td>\n",
       "      <td>3.0</td>\n",
       "    </tr>\n",
       "    <tr>\n",
       "      <th>2638170</th>\n",
       "      <td>[this, game, very, similar, creationary, comes...</td>\n",
       "      <td>2.5</td>\n",
       "    </tr>\n",
       "    <tr>\n",
       "      <th>2638171</th>\n",
       "      <td>[this, game, was, really, bad, worst, that, pl...</td>\n",
       "      <td>2.0</td>\n",
       "    </tr>\n",
       "  </tbody>\n",
       "</table>\n",
       "<p>2638172 rows × 2 columns</p>\n",
       "</div>"
      ],
      "text/plain": [
       "                                                   comment  rating\n",
       "0            [currently, this, sits, list, favorite, game]    10.0\n",
       "1        [know, says, how, many, plays, but, many, many...    10.0\n",
       "2                 [will, never, tire, this, game, awesome]    10.0\n",
       "3        [this, probably, the, best, game, ever, played...    10.0\n",
       "4        [fantastic, game, got, hooked, games, all, ove...    10.0\n",
       "...                                                    ...     ...\n",
       "2638167        [horrible, party, game, dumping, this, one]     3.0\n",
       "2638168  [difficult, build, anything, all, with, the, i...     3.0\n",
       "2638169  [lego, created, version, pictionary, only, you...     3.0\n",
       "2638170  [this, game, very, similar, creationary, comes...     2.5\n",
       "2638171  [this, game, was, really, bad, worst, that, pl...     2.0\n",
       "\n",
       "[2638172 rows x 2 columns]"
      ]
     },
     "metadata": {
      "tags": []
     },
     "output_type": "display_data"
    }
   ],
   "source": [
    "def clean_text(text):\n",
    "    text = text.lower().strip()\n",
    "    text = \" \".join([w for w in text.split() if len(w) >= 3 and len(w) <= 15])\n",
    "    text = re.sub('\\[.*?\\]', '', text)\n",
    "    text = re.sub('https?://\\S+|www\\.\\S+', '', text)\n",
    "    text = re.sub('<.*?>+', '', text)\n",
    "    text = re.sub('[%s]' % re.escape(string.punctuation), '', text)\n",
    "    text = re.sub('\\n', '', text)\n",
    "    text = re.sub('\\w+\\d+\\w*', '', text)\n",
    "    text = re.sub('\\d+\\w+\\d*', '', text)\n",
    "    text = re.sub('\\W+', '', text)\n",
    "    text = tokenizer.tokenize(text)\n",
    "    return text\n",
    "\n",
    "\n",
    "if os.path.isfile(CLEAN_TEXT_PICKLE) or REVIEWS_DATA_CHANGED:\n",
    "    print(\"Pickled clean text found. Loading from pickle file.\")\n",
    "    reviews = pd.read_pickle(CLEAN_TEXT_PICKLE, compression=\"gzip\")\n",
    "else:\n",
    "    print(\"Cleaning reviews\")\n",
    "    tokenizer = nltk.tokenize.RegexpTokenizer(r'\\w+')\n",
    "    reviews['comment'] = reviews['comment'].apply(clean_text)\n",
    "    print(\"Pickling cleaned dataset\")\n",
    "    reviews.to_pickle(CLEAN_TEXT_PICKLE, compression=\"gzip\")\n",
    "\n",
    "gc.collect()\n",
    "display(reviews)"
   ]
  },
  {
   "cell_type": "markdown",
   "metadata": {
    "colab_type": "text",
    "id": "sWZid0bhoqKt"
   },
   "source": [
    "## Calculating unique words\n",
    "\n",
    "We've gotten rid of most of the oddities in our text data.\n",
    "\n",
    "But, when it comes to such huge models text is present in many forms of speech so it's better to lemmatize them. But, before we do that, let's see how many unique words we currently have."
   ]
  },
  {
   "cell_type": "code",
   "execution_count": 8,
   "metadata": {
    "colab": {
     "base_uri": "https://localhost:8080/",
     "height": 34
    },
    "colab_type": "code",
    "id": "ryoUNPDDou95",
    "outputId": "f04e0a2f-db66-4f4b-ab46-ecc8dd545154"
   },
   "outputs": [
    {
     "name": "stdout",
     "output_type": "stream",
     "text": [
      "Unique words before lemmatizing 313013\n"
     ]
    }
   ],
   "source": [
    "uniq_words = []\n",
    "\n",
    "unique_words = reviews.explode('comment').comment.nunique()\n",
    "uniq_words.append(unique_words)\n",
    "\n",
    "print(\"Unique words before lemmatizing {}\".format(unique_words))"
   ]
  },
  {
   "cell_type": "markdown",
   "metadata": {
    "colab_type": "text",
    "id": "KTl4S_qLq5Jl"
   },
   "source": [
    "## Lemmatizing \n",
    "\n",
    "Wow, that's a lot of words. Let's see what happens after lemmatizing our reviews."
   ]
  },
  {
   "cell_type": "code",
   "execution_count": 9,
   "metadata": {
    "colab": {
     "base_uri": "https://localhost:8080/",
     "height": 453
    },
    "colab_type": "code",
    "id": "o6-cmvFjq4Ug",
    "outputId": "9128b842-9c96-48b2-a8c6-7de7751397c3"
   },
   "outputs": [
    {
     "name": "stdout",
     "output_type": "stream",
     "text": [
      "Pickled lemmatized reviews found. Loading from pickle file.\n"
     ]
    },
    {
     "data": {
      "text/html": [
       "<div>\n",
       "<style scoped>\n",
       "    .dataframe tbody tr th:only-of-type {\n",
       "        vertical-align: middle;\n",
       "    }\n",
       "\n",
       "    .dataframe tbody tr th {\n",
       "        vertical-align: top;\n",
       "    }\n",
       "\n",
       "    .dataframe thead th {\n",
       "        text-align: right;\n",
       "    }\n",
       "</style>\n",
       "<table border=\"1\" class=\"dataframe\">\n",
       "  <thead>\n",
       "    <tr style=\"text-align: right;\">\n",
       "      <th></th>\n",
       "      <th>comment</th>\n",
       "      <th>rating</th>\n",
       "    </tr>\n",
       "  </thead>\n",
       "  <tbody>\n",
       "    <tr>\n",
       "      <th>0</th>\n",
       "      <td>[currently, this, sits, list, favorite, game]</td>\n",
       "      <td>10.0</td>\n",
       "    </tr>\n",
       "    <tr>\n",
       "      <th>1</th>\n",
       "      <td>[know, say, how, many, play, but, many, many, ...</td>\n",
       "      <td>10.0</td>\n",
       "    </tr>\n",
       "    <tr>\n",
       "      <th>2</th>\n",
       "      <td>[will, never, tire, this, game, awesome]</td>\n",
       "      <td>10.0</td>\n",
       "    </tr>\n",
       "    <tr>\n",
       "      <th>3</th>\n",
       "      <td>[this, probably, the, best, game, ever, played...</td>\n",
       "      <td>10.0</td>\n",
       "    </tr>\n",
       "    <tr>\n",
       "      <th>4</th>\n",
       "      <td>[fantastic, game, got, hooked, game, all, over...</td>\n",
       "      <td>10.0</td>\n",
       "    </tr>\n",
       "    <tr>\n",
       "      <th>...</th>\n",
       "      <td>...</td>\n",
       "      <td>...</td>\n",
       "    </tr>\n",
       "    <tr>\n",
       "      <th>2638167</th>\n",
       "      <td>[horrible, party, game, dumping, this, one]</td>\n",
       "      <td>3.0</td>\n",
       "    </tr>\n",
       "    <tr>\n",
       "      <th>2638168</th>\n",
       "      <td>[difficult, build, anything, all, with, the, i...</td>\n",
       "      <td>3.0</td>\n",
       "    </tr>\n",
       "    <tr>\n",
       "      <th>2638169</th>\n",
       "      <td>[lego, created, version, pictionary, only, you...</td>\n",
       "      <td>3.0</td>\n",
       "    </tr>\n",
       "    <tr>\n",
       "      <th>2638170</th>\n",
       "      <td>[this, game, very, similar, creationary, come,...</td>\n",
       "      <td>2.5</td>\n",
       "    </tr>\n",
       "    <tr>\n",
       "      <th>2638171</th>\n",
       "      <td>[this, game, wa, really, bad, worst, that, pla...</td>\n",
       "      <td>2.0</td>\n",
       "    </tr>\n",
       "  </tbody>\n",
       "</table>\n",
       "<p>2638172 rows × 2 columns</p>\n",
       "</div>"
      ],
      "text/plain": [
       "                                                   comment  rating\n",
       "0            [currently, this, sits, list, favorite, game]    10.0\n",
       "1        [know, say, how, many, play, but, many, many, ...    10.0\n",
       "2                 [will, never, tire, this, game, awesome]    10.0\n",
       "3        [this, probably, the, best, game, ever, played...    10.0\n",
       "4        [fantastic, game, got, hooked, game, all, over...    10.0\n",
       "...                                                    ...     ...\n",
       "2638167        [horrible, party, game, dumping, this, one]     3.0\n",
       "2638168  [difficult, build, anything, all, with, the, i...     3.0\n",
       "2638169  [lego, created, version, pictionary, only, you...     3.0\n",
       "2638170  [this, game, very, similar, creationary, come,...     2.5\n",
       "2638171  [this, game, wa, really, bad, worst, that, pla...     2.0\n",
       "\n",
       "[2638172 rows x 2 columns]"
      ]
     },
     "metadata": {
      "tags": []
     },
     "output_type": "display_data"
    },
    {
     "name": "stdout",
     "output_type": "stream",
     "text": [
      "Unique words after lemmatizing 300678\n"
     ]
    }
   ],
   "source": [
    "def lemmatize_data(text):\n",
    "    return [lemmatizer.lemmatize(w) for w in text]\n",
    "\n",
    "\n",
    "if os.path.isfile(LEMMATIZED_PICKLE) or REVIEWS_DATA_CHANGED:\n",
    "    print(\"Pickled lemmatized reviews found. Loading from pickle file.\")\n",
    "    reviews = pd.read_pickle(LEMMATIZED_PICKLE, compression=\"gzip\")\n",
    "else:\n",
    "    print(\"Lemmatizing reviews\")\n",
    "    lemmatizer = nltk.stem.WordNetLemmatizer()\n",
    "    reviews['comment'] = reviews['comment'].apply(lemmatize_data)\n",
    "    print(\"Pickling lemmatized reviews\")\n",
    "    reviews.to_pickle(LEMMATIZED_PICKLE, compression=\"gzip\")\n",
    "\n",
    "display(reviews)\n",
    "gc.collect()\n",
    "\n",
    "unique_words = reviews.explode('comment').comment.nunique()\n",
    "uniq_words.append(unique_words)\n",
    "print(\"Unique words after lemmatizing {}\".format(unique_words))"
   ]
  },
  {
   "cell_type": "markdown",
   "metadata": {
    "colab_type": "text",
    "id": "O-neo_MUtjum"
   },
   "source": [
    "## Removing stopwords and non-english words\n",
    "\n",
    "Now let's remove the stopwords as well as they are mostly redundant for our training and mainly help us understand context.\n",
    "\n",
    "We do have quite a fair number of custom words to remove and I've identified some custom words that I've added to the list as well."
   ]
  },
  {
   "cell_type": "code",
   "execution_count": 10,
   "metadata": {
    "colab": {
     "base_uri": "https://localhost:8080/",
     "height": 453
    },
    "colab_type": "code",
    "id": "eCPC0XU2suZe",
    "outputId": "a94830bb-2b2f-491e-bd17-2b95048d16f6"
   },
   "outputs": [
    {
     "name": "stdout",
     "output_type": "stream",
     "text": [
      "Reading stopwords pickle\n",
      "After removing stopwords:\n"
     ]
    },
    {
     "data": {
      "text/html": [
       "<div>\n",
       "<style scoped>\n",
       "    .dataframe tbody tr th:only-of-type {\n",
       "        vertical-align: middle;\n",
       "    }\n",
       "\n",
       "    .dataframe tbody tr th {\n",
       "        vertical-align: top;\n",
       "    }\n",
       "\n",
       "    .dataframe thead th {\n",
       "        text-align: right;\n",
       "    }\n",
       "</style>\n",
       "<table border=\"1\" class=\"dataframe\">\n",
       "  <thead>\n",
       "    <tr style=\"text-align: right;\">\n",
       "      <th></th>\n",
       "      <th>comment</th>\n",
       "      <th>rating</th>\n",
       "    </tr>\n",
       "  </thead>\n",
       "  <tbody>\n",
       "    <tr>\n",
       "      <th>0</th>\n",
       "      <td>[list, favorite]</td>\n",
       "      <td>10.0</td>\n",
       "    </tr>\n",
       "    <tr>\n",
       "      <th>1</th>\n",
       "      <td>[uncounted]</td>\n",
       "      <td>10.0</td>\n",
       "    </tr>\n",
       "    <tr>\n",
       "      <th>2</th>\n",
       "      <td>[tire, awesome]</td>\n",
       "      <td>10.0</td>\n",
       "    </tr>\n",
       "    <tr>\n",
       "      <th>3</th>\n",
       "      <td>[negotiation, skill, thinking]</td>\n",
       "      <td>10.0</td>\n",
       "    </tr>\n",
       "    <tr>\n",
       "      <th>4</th>\n",
       "      <td>[fantastic, hooked]</td>\n",
       "      <td>10.0</td>\n",
       "    </tr>\n",
       "    <tr>\n",
       "      <th>...</th>\n",
       "      <td>...</td>\n",
       "      <td>...</td>\n",
       "    </tr>\n",
       "    <tr>\n",
       "      <th>2638167</th>\n",
       "      <td>[party, horrible, dumping]</td>\n",
       "      <td>3.0</td>\n",
       "    </tr>\n",
       "    <tr>\n",
       "      <th>2638168</th>\n",
       "      <td>[difficult, included, build]</td>\n",
       "      <td>3.0</td>\n",
       "    </tr>\n",
       "    <tr>\n",
       "      <th>2638169</th>\n",
       "      <td>[create, abstract, fun, limited, number, pictu...</td>\n",
       "      <td>3.0</td>\n",
       "    </tr>\n",
       "    <tr>\n",
       "      <th>2638170</th>\n",
       "      <td>[similar, creationary]</td>\n",
       "      <td>2.5</td>\n",
       "    </tr>\n",
       "    <tr>\n",
       "      <th>2638171</th>\n",
       "      <td>[bad, worst, genre]</td>\n",
       "      <td>2.0</td>\n",
       "    </tr>\n",
       "  </tbody>\n",
       "</table>\n",
       "<p>2638172 rows × 2 columns</p>\n",
       "</div>"
      ],
      "text/plain": [
       "                                                   comment  rating\n",
       "0                                         [list, favorite]    10.0\n",
       "1                                              [uncounted]    10.0\n",
       "2                                          [tire, awesome]    10.0\n",
       "3                           [negotiation, skill, thinking]    10.0\n",
       "4                                      [fantastic, hooked]    10.0\n",
       "...                                                    ...     ...\n",
       "2638167                         [party, horrible, dumping]     3.0\n",
       "2638168                       [difficult, included, build]     3.0\n",
       "2638169  [create, abstract, fun, limited, number, pictu...     3.0\n",
       "2638170                             [similar, creationary]     2.5\n",
       "2638171                                [bad, worst, genre]     2.0\n",
       "\n",
       "[2638172 rows x 2 columns]"
      ]
     },
     "metadata": {
      "tags": []
     },
     "output_type": "display_data"
    }
   ],
   "source": [
    "def remove_stopwords(text):\n",
    "    words = [\n",
    "        w for w in text if w not in stop_words and w in words_corpus or not w.isalpha()]\n",
    "    words = list(filter(lambda word: len(word) > 2, set(words)))\n",
    "    return words\n",
    "\n",
    "\n",
    "if os.path.isfile(STOPWORDS_PICKLE) or REVIEWS_DATA_CHANGED:\n",
    "    print(\"Reading stopwords pickle\")\n",
    "    reviews = pd.read_pickle(STOPWORDS_PICKLE, compression=\"gzip\")\n",
    "else:\n",
    "    words_corpus = set(nltk.corpus.words.words())\n",
    "\n",
    "    stop_words_json = {\"en\": [\"a\", \"a's\", \"able\", \"about\", \"above\", \"according\", \"accordingly\", \"across\", \"actually\", \"after\", \"afterwards\", \"again\", \"against\", \"ain't\", \"aint\", \"all\", \"allow\", \"allows\", \"almost\", \"alone\", \"along\", \"already\", \"also\", \"although\", \"always\", \"am\", \"among\", \"amongst\", \"an\", \"and\", \"another\", \"any\", \"anybody\", \"anyhow\", \"anyone\", \"anything\", \"anyway\", \"anyways\", \"anywhere\", \"apart\", \"appear\", \"appreciate\", \"appropriate\", \"are\", \"aren't\", \"arent\", \"around\", \"as\", \"aside\", \"ask\", \"asking\", \"associated\", \"at\", \"available\", \"away\", \"awfully\", \"b\", \"be\", \"became\", \"because\", \"become\", \"becomes\", \"becoming\", \"been\", \"before\", \"beforehand\", \"behind\", \"being\", \"believe\", \"below\", \"beside\", \"besides\", \"best\", \"better\", \"between\", \"beyond\", \"both\", \"brief\", \"but\", \"by\", \"c\", \"c'mon\", \"cmon\", \"cs\", \"c's\", \"came\", \"can\", \"can't\", \"cannot\", \"cant\", \"cause\", \"causes\", \"certain\", \"certainly\", \"changes\", \"clearly\", \"co\", \"com\", \"come\", \"comes\", \"concerning\", \"consequently\", \"consider\", \"considering\", \"contain\", \"containing\", \"contains\", \"corresponding\", \"could\", \"couldn't\", \"course\", \"currently\", \"d\", \"definitely\", \"described\", \"despite\", \"did\", \"didn't\", \"different\", \"do\", \"does\", \"doesn't\", \"doesn\", \"doing\", \"don't\", \"done\", \"down\", \"downwards\", \"during\", \"e\", \"each\", \"edu\", \"eg\", \"eight\", \"either\", \"else\", \"elsewhere\", \"enough\", \"entirely\", \"especially\", \"et\", \"etc\", \"even\", \"ever\", \"every\", \"everybody\", \"everyone\", \"everything\", \"everywhere\", \"ex\", \"exactly\", \"example\", \"except\", \"f\", \"far\", \"few\", \"fifth\", \"first\", \"five\", \"followed\", \"following\", \"follows\", \"for\", \"former\", \"formerly\", \"forth\", \"four\", \"from\", \"further\", \"furthermore\", \"g\", \"get\", \"gets\", \"getting\", \"given\", \"gives\", \"go\", \"goes\", \"going\", \"gone\", \"got\", \"gotten\", \"greetings\", \"h\", \"had\", \"hadn't\", \"hadnt\", \"happens\", \"hardly\", \"has\", \"hasn't\", \"hasnt\", \"have\", \"haven't\", \"havent\", \"having\", \"he\", \"he's\", \"hes\", \"hello\", \"help\", \"hence\", \"her\", \"here\", \"here's\", \"heres\", \"hereafter\", \"hereby\", \"herein\", \"hereupon\", \"hers\", \"herself\", \"hi\", \"him\", \"himself\", \"his\", \"hither\", \"hopefully\", \"how\", \"howbeit\", \"however\", \"i\", \"i'd\", \"id\", \"i'll\", \"i'm\", \"im\", \"i've\", \"ive\", \"ie\", \"if\", \"ignored\", \"immediate\", \"in\", \"inasmuch\", \"inc\", \"indeed\", \"indicate\", \"indicated\", \"indicates\", \"inner\", \"insofar\", \"instead\", \"into\", \"inward\", \"is\", \"isn't\", \"isnt\", \"it\", \"it'd\", \"itd\", \"it'll\", \"itll\", \"it's\", \"its\", \"itself\", \"j\", \"just\", \"k\", \"keep\", \"keeps\", \"kept\", \"know\", \"known\", \"knows\", \"l\", \"last\", \"lately\", \"later\", \"latter\", \"latterly\", \"least\", \"less\", \"lest\", \"let\", \"let's\", \"lets\", \"like\", \"liked\", \"likely\", \"little\", \"look\", \"looking\", \"looks\", \"ltd\", \"m\", \"mainly\", \"many\", \"may\", \"maybe\", \"me\", \"mean\", \"meanwhile\", \"merely\", \"might\", \"more\", \"moreover\", \"most\", \"mostly\", \"much\", \"must\", \"my\",\n",
    "                              \"myself\", \"n\", \"name\", \"namely\", \"nd\", \"near\", \"nearly\", \"necessary\", \"need\", \"needs\", \"neither\", \"never\", \"nevertheless\", \"new\", \"next\", \"nine\", \"no\", \"nobody\", \"non\", \"none\", \"noone\", \"nor\", \"normally\", \"not\", \"nothing\", \"novel\", \"now\", \"nowhere\", \"o\", \"obviously\", \"of\", \"off\", \"often\", \"oh\", \"ok\", \"okay\", \"old\", \"on\", \"once\", \"one\", \"ones\", \"only\", \"onto\", \"or\", \"other\", \"others\", \"otherwise\", \"ought\", \"our\", \"ours\", \"ourselves\", \"out\", \"outside\", \"over\", \"overall\", \"own\", \"p\", \"particular\", \"particularly\", \"per\", \"perhaps\", \"placed\", \"please\", \"plus\", \"possible\", \"presumably\", \"probably\", \"provides\", \"q\", \"que\", \"quite\", \"qv\", \"r\", \"rather\", \"rd\", \"re\", \"really\", \"reasonably\", \"regarding\", \"regardless\", \"regards\", \"relatively\", \"respectively\", \"right\", \"s\", \"said\", \"same\", \"saw\", \"say\", \"saying\", \"says\", \"second\", \"secondly\", \"see\", \"seeing\", \"seem\", \"seemed\", \"seeming\", \"seems\", \"seen\", \"self\", \"selves\", \"sensible\", \"sent\", \"serious\", \"seriously\", \"seven\", \"several\", \"shall\", \"she\", \"should\", \"shouldn't\", \"shouldnt\", \"since\", \"six\", \"so\", \"some\", \"somebody\", \"somehow\", \"someone\", \"something\", \"sometime\", \"sometimes\", \"somewhat\", \"somewhere\", \"soon\", \"sorry\", \"specified\", \"specify\", \"specifying\", \"still\", \"sub\", \"such\", \"sup\", \"sure\", \"t\", \"t's\", \"ts\", \"take\", \"taken\", \"tell\", \"tends\", \"th\", \"than\", \"thank\", \"thanks\", \"thanx\", \"that\", \"that's\", \"thats\", \"the\", \"their\", \"theirs\", \"them\", \"themselves\", \"then\", \"thence\", \"there\", \"there's\", \"theres\", \"thereafter\", \"thereby\", \"therefore\", \"therein\", \"theres\", \"thereupon\", \"these\", \"they\", \"they'd\", \"theyd\", \"they'll\", \"theyll\", \"they're\", \"theyre\", \"theyve\", \"they've\", \"think\", \"third\", \"this\", \"thorough\", \"thoroughly\", \"those\", \"though\", \"three\", \"through\", \"throughout\", \"thru\", \"thus\", \"to\", \"together\", \"too\", \"took\", \"toward\", \"towards\", \"tried\", \"tries\", \"truly\", \"try\", \"trying\", \"twice\", \"two\", \"u\", \"un\", \"under\", \"unfortunately\", \"unless\", \"unlikely\", \"until\", \"unto\", \"up\", \"upon\", \"us\", \"use\", \"used\", \"useful\", \"uses\", \"using\", \"usually\", \"uucp\", \"v\", \"value\", \"various\", \"very\", \"via\", \"viz\", \"vs\", \"w\", \"wa\", \"want\", \"wants\", \"was\", \"wasn't\", \"wasnt\", \"way\", \"we\", \"we'd\", \"we'll\", \"we're\", \"we've\", \"weve\", \"welcome\", \"well\", \"went\", \"were\", \"weren't\", \"werent\", \"what\", \"what's\", \"whats\", \"whatever\", \"when\", \"whence\", \"whenever\", \"where\", \"wheres\", \"where's\", \"whereafter\", \"whereas\", \"whereby\", \"wherein\", \"whereupon\", \"wherever\", \"whether\", \"which\", \"while\", \"whither\", \"who\", \"who's\", \"whos\", \"whoever\", \"whole\", \"whom\", \"whose\", \"why\", \"will\", \"willing\", \"wish\", \"with\", \"within\", \"without\", \"won't\", \"wont\", \"wonder\", \"would\", \"wouldn't\", \"wouldny\", \"x\", \"y\", \"yes\", \"yet\", \"you\", \"you'd\", \"youd\", \"you'll\", \"youll\", \"you're\", \"youre\", \"you've\", \"youve\", \"your\", \"yours\", \"yours\", \"yourself\", \"yourselves\", \"z\", \"zero\"]}\n",
    "    stop_words_json_en = set(stop_words_json['en'])\n",
    "\n",
    "    stop_words_nltk_en = set(stopwords.words('english'))\n",
    "\n",
    "    custom_stop_words = [\"rating\", \"ish\", \"havn\", \"dice\", \"end\", \"set\", \"doesnt\", \"give\", \"find\", \"doe\", \"system\", \"tile\", \"table\", \"deck\", \"box\", \"made\", \"part\", \"based\", \"worker\", \"wife\", \"put\", \"havent\", \"game\", \"play\",\n",
    "                         \"player\", \"one\", \"two\", \"card\", \"ha\", \"wa\", \"dont\", \"board\", \"time\", \"make\", \"rule\", \"thing\", \"version\", \"mechanic\", \"year\", \"theme\", \"rating\", \"family\", \"child\", \"money\", \"edition\", \"collection\", \"piece\", \"wasnt\", \"didnt\"]\n",
    "\n",
    "    stop_words = stop_words_nltk_en.union(\n",
    "        stop_words_json_en, custom_stop_words)\n",
    "\n",
    "    print(\"Removing {} stopwords from text\".format(len(stop_words)))\n",
    "    print()\n",
    "\n",
    "    reviews['comment'] = reviews['comment'].apply(remove_stopwords)\n",
    "\n",
    "    print(\"Pickling stopwords data\")\n",
    "    reviews.to_pickle(STOPWORDS_PICKLE, compression=\"gzip\")\n",
    "\n",
    "gc.collect()\n",
    "\n",
    "print(\"After removing stopwords:\")\n",
    "display(reviews)"
   ]
  },
  {
   "cell_type": "markdown",
   "metadata": {
    "colab_type": "text",
    "id": "X4WlHLU6u9eK"
   },
   "source": [
    "Let's see what the word count is now"
   ]
  },
  {
   "cell_type": "code",
   "execution_count": 11,
   "metadata": {
    "colab": {
     "base_uri": "https://localhost:8080/",
     "height": 34
    },
    "colab_type": "code",
    "id": "jRArrfsluZ7A",
    "outputId": "dedb87b9-36e2-4bd3-a6c2-201d7078d287"
   },
   "outputs": [
    {
     "name": "stdout",
     "output_type": "stream",
     "text": [
      "37633\n"
     ]
    }
   ],
   "source": [
    "unique_words = reviews.explode('comment').comment.nunique()\n",
    "uniq_words.append(unique_words)\n",
    "print(unique_words)"
   ]
  },
  {
   "cell_type": "markdown",
   "metadata": {
    "colab_type": "text",
    "id": "uT7RZ8-2vE1d"
   },
   "source": [
    "Wow! That a marked difference considering what we started off with. This will definitely help us during our training phase as it reduces training time and computations as well.\n",
    "\n",
    "Moreover, this helps improve our accuracy as we will be targeting important keywords that contribute to a particular sentiment.\n",
    "\n",
    "Let's see what the wordcloud looks like now."
   ]
  },
  {
   "cell_type": "code",
   "execution_count": 12,
   "metadata": {
    "colab": {
     "base_uri": "https://localhost:8080/",
     "height": 497
    },
    "colab_type": "code",
    "id": "wcz_ZS-0vX8M",
    "outputId": "e099ad09-4c80-4982-fbe7-1ecd120ea6cf"
   },
   "outputs": [
    {
     "data": {
      "image/png": "[encoded data removed]",
      "text/plain": [
       "<Figure size 720x576 with 1 Axes>"
      ]
     },
     "metadata": {
      "needs_background": "light",
      "tags": []
     },
     "output_type": "display_data"
    }
   ],
   "source": [
    "x = [1, 2, 3]\n",
    "y = [313013, 300678, 37633]\n",
    "\n",
    "fig, ax = plt.subplots(figsize=(10, 8))\n",
    "ax.plot(x, y, color=\"#663399\")\n",
    "ax.set_ylabel('Unique Words')\n",
    "ax.set_xlabel('Bins')\n",
    "plt.show()"
   ]
  },
  {
   "cell_type": "markdown",
   "metadata": {
    "colab_type": "text",
    "id": "0JefaKy2xwqK"
   },
   "source": [
    "## Finishing up and saving progress\n",
    "\n",
    "In the process of all this cleaning, there would be several rows that have become empty.\n",
    "\n",
    "Let's remove them and then pickle our dataset so that we don't have to do all this cleaning again."
   ]
  },
  {
   "cell_type": "code",
   "execution_count": 13,
   "metadata": {
    "colab": {
     "base_uri": "https://localhost:8080/",
     "height": 436
    },
    "colab_type": "code",
    "id": "rpdHYE9Xu1Zd",
    "outputId": "77bd9d29-c230-4fac-c425-ffb2c84d1ba8"
   },
   "outputs": [
    {
     "name": "stdout",
     "output_type": "stream",
     "text": [
      "Reading cleaned reviews pickle\n"
     ]
    },
    {
     "data": {
      "text/html": [
       "<div>\n",
       "<style scoped>\n",
       "    .dataframe tbody tr th:only-of-type {\n",
       "        vertical-align: middle;\n",
       "    }\n",
       "\n",
       "    .dataframe tbody tr th {\n",
       "        vertical-align: top;\n",
       "    }\n",
       "\n",
       "    .dataframe thead th {\n",
       "        text-align: right;\n",
       "    }\n",
       "</style>\n",
       "<table border=\"1\" class=\"dataframe\">\n",
       "  <thead>\n",
       "    <tr style=\"text-align: right;\">\n",
       "      <th></th>\n",
       "      <th>comment</th>\n",
       "      <th>rating</th>\n",
       "    </tr>\n",
       "  </thead>\n",
       "  <tbody>\n",
       "    <tr>\n",
       "      <th>0</th>\n",
       "      <td>[list, favorite]</td>\n",
       "      <td>10.0</td>\n",
       "    </tr>\n",
       "    <tr>\n",
       "      <th>1</th>\n",
       "      <td>[uncounted]</td>\n",
       "      <td>10.0</td>\n",
       "    </tr>\n",
       "    <tr>\n",
       "      <th>2</th>\n",
       "      <td>[tire, awesome]</td>\n",
       "      <td>10.0</td>\n",
       "    </tr>\n",
       "    <tr>\n",
       "      <th>3</th>\n",
       "      <td>[negotiation, skill, thinking]</td>\n",
       "      <td>10.0</td>\n",
       "    </tr>\n",
       "    <tr>\n",
       "      <th>4</th>\n",
       "      <td>[fantastic, hooked]</td>\n",
       "      <td>10.0</td>\n",
       "    </tr>\n",
       "    <tr>\n",
       "      <th>...</th>\n",
       "      <td>...</td>\n",
       "      <td>...</td>\n",
       "    </tr>\n",
       "    <tr>\n",
       "      <th>2638167</th>\n",
       "      <td>[party, horrible, dumping]</td>\n",
       "      <td>3.0</td>\n",
       "    </tr>\n",
       "    <tr>\n",
       "      <th>2638168</th>\n",
       "      <td>[difficult, included, build]</td>\n",
       "      <td>3.0</td>\n",
       "    </tr>\n",
       "    <tr>\n",
       "      <th>2638169</th>\n",
       "      <td>[create, abstract, fun, limited, number, pictu...</td>\n",
       "      <td>3.0</td>\n",
       "    </tr>\n",
       "    <tr>\n",
       "      <th>2638170</th>\n",
       "      <td>[similar, creationary]</td>\n",
       "      <td>2.5</td>\n",
       "    </tr>\n",
       "    <tr>\n",
       "      <th>2638171</th>\n",
       "      <td>[bad, worst, genre]</td>\n",
       "      <td>2.0</td>\n",
       "    </tr>\n",
       "  </tbody>\n",
       "</table>\n",
       "<p>2405729 rows × 2 columns</p>\n",
       "</div>"
      ],
      "text/plain": [
       "                                                   comment  rating\n",
       "0                                         [list, favorite]    10.0\n",
       "1                                              [uncounted]    10.0\n",
       "2                                          [tire, awesome]    10.0\n",
       "3                           [negotiation, skill, thinking]    10.0\n",
       "4                                      [fantastic, hooked]    10.0\n",
       "...                                                    ...     ...\n",
       "2638167                         [party, horrible, dumping]     3.0\n",
       "2638168                       [difficult, included, build]     3.0\n",
       "2638169  [create, abstract, fun, limited, number, pictu...     3.0\n",
       "2638170                             [similar, creationary]     2.5\n",
       "2638171                                [bad, worst, genre]     2.0\n",
       "\n",
       "[2405729 rows x 2 columns]"
      ]
     },
     "metadata": {
      "tags": []
     },
     "output_type": "display_data"
    }
   ],
   "source": [
    "def drop_empty_reviews(df):\n",
    "    df = df.drop(df[~df.comment.astype(bool)].index)\n",
    "    return df\n",
    "\n",
    "\n",
    "if os.path.isfile(CLEANED_PICKLE) or REVIEWS_DATA_CHANGED:\n",
    "    print(\"Reading cleaned reviews pickle\")\n",
    "    reviews = pd.read_pickle(CLEANED_PICKLE, compression=\"gzip\")\n",
    "else:\n",
    "    reviews = drop_empty_reviews(reviews)\n",
    "    print(\"Pickling cleaned reviews data\")\n",
    "    reviews.to_pickle(CLEANED_PICKLE, compression=\"gzip\")\n",
    "\n",
    "REVIEWS_DATA_CHANGED = False\n",
    "\n",
    "gc.collect()\n",
    "\n",
    "display(reviews)"
   ]
  },
  {
   "cell_type": "markdown",
   "metadata": {
    "colab_type": "text",
    "id": "9BMmbZ_o42u2"
   },
   "source": [
    "## Exploring our dataset\n",
    "\n",
    "Now that we've completed our cleaning, we need to assess what kind of model we should use to predict our ratings.\n",
    "\n",
    "But first, let's see how many distinct values we have in the ratings column."
   ]
  },
  {
   "cell_type": "code",
   "execution_count": 14,
   "metadata": {
    "colab": {
     "base_uri": "https://localhost:8080/",
     "height": 34
    },
    "colab_type": "code",
    "id": "vnw66fR77zMJ",
    "outputId": "c655989c-e0ad-491f-a2a9-f5346ce0957a"
   },
   "outputs": [
    {
     "data": {
      "text/plain": [
       "3213"
      ]
     },
     "execution_count": 14,
     "metadata": {
      "tags": []
     },
     "output_type": "execute_result"
    }
   ],
   "source": [
    "reviews.rating.nunique()"
   ]
  },
  {
   "cell_type": "markdown",
   "metadata": {
    "colab_type": "text",
    "id": "r5pGy3M98Bvd"
   },
   "source": [
    "We've got 3k+ unique values. This would definitely help us in a Regression model.\n",
    "\n",
    "But, since we will be predicting single digit ratings, I'm going to round off the column. This will allow us to perform both regression and classification and choose what give's us a better result.\n",
    "\n",
    "Do note that rounding off generally isn't recommended as it leads to loss of information and will affect the outcome.\n",
    "\n",
    "I'm only doing this due to computational constraints. You should see better results in Regression models without rounding the values."
   ]
  },
  {
   "cell_type": "code",
   "execution_count": 15,
   "metadata": {
    "colab": {
     "base_uri": "https://localhost:8080/",
     "height": 419
    },
    "colab_type": "code",
    "id": "dYUPLRE587jo",
    "outputId": "88b6c0c1-6e61-481b-c8d8-eb63dad8250f"
   },
   "outputs": [
    {
     "data": {
      "text/html": [
       "<div>\n",
       "<style scoped>\n",
       "    .dataframe tbody tr th:only-of-type {\n",
       "        vertical-align: middle;\n",
       "    }\n",
       "\n",
       "    .dataframe tbody tr th {\n",
       "        vertical-align: top;\n",
       "    }\n",
       "\n",
       "    .dataframe thead th {\n",
       "        text-align: right;\n",
       "    }\n",
       "</style>\n",
       "<table border=\"1\" class=\"dataframe\">\n",
       "  <thead>\n",
       "    <tr style=\"text-align: right;\">\n",
       "      <th></th>\n",
       "      <th>comment</th>\n",
       "      <th>rating</th>\n",
       "    </tr>\n",
       "  </thead>\n",
       "  <tbody>\n",
       "    <tr>\n",
       "      <th>0</th>\n",
       "      <td>[list, favorite]</td>\n",
       "      <td>10</td>\n",
       "    </tr>\n",
       "    <tr>\n",
       "      <th>1</th>\n",
       "      <td>[uncounted]</td>\n",
       "      <td>10</td>\n",
       "    </tr>\n",
       "    <tr>\n",
       "      <th>2</th>\n",
       "      <td>[tire, awesome]</td>\n",
       "      <td>10</td>\n",
       "    </tr>\n",
       "    <tr>\n",
       "      <th>3</th>\n",
       "      <td>[negotiation, skill, thinking]</td>\n",
       "      <td>10</td>\n",
       "    </tr>\n",
       "    <tr>\n",
       "      <th>4</th>\n",
       "      <td>[fantastic, hooked]</td>\n",
       "      <td>10</td>\n",
       "    </tr>\n",
       "    <tr>\n",
       "      <th>...</th>\n",
       "      <td>...</td>\n",
       "      <td>...</td>\n",
       "    </tr>\n",
       "    <tr>\n",
       "      <th>2638167</th>\n",
       "      <td>[party, horrible, dumping]</td>\n",
       "      <td>3</td>\n",
       "    </tr>\n",
       "    <tr>\n",
       "      <th>2638168</th>\n",
       "      <td>[difficult, included, build]</td>\n",
       "      <td>3</td>\n",
       "    </tr>\n",
       "    <tr>\n",
       "      <th>2638169</th>\n",
       "      <td>[create, abstract, fun, limited, number, pictu...</td>\n",
       "      <td>3</td>\n",
       "    </tr>\n",
       "    <tr>\n",
       "      <th>2638170</th>\n",
       "      <td>[similar, creationary]</td>\n",
       "      <td>2</td>\n",
       "    </tr>\n",
       "    <tr>\n",
       "      <th>2638171</th>\n",
       "      <td>[bad, worst, genre]</td>\n",
       "      <td>2</td>\n",
       "    </tr>\n",
       "  </tbody>\n",
       "</table>\n",
       "<p>2405729 rows × 2 columns</p>\n",
       "</div>"
      ],
      "text/plain": [
       "                                                   comment  rating\n",
       "0                                         [list, favorite]      10\n",
       "1                                              [uncounted]      10\n",
       "2                                          [tire, awesome]      10\n",
       "3                           [negotiation, skill, thinking]      10\n",
       "4                                      [fantastic, hooked]      10\n",
       "...                                                    ...     ...\n",
       "2638167                         [party, horrible, dumping]       3\n",
       "2638168                       [difficult, included, build]       3\n",
       "2638169  [create, abstract, fun, limited, number, pictu...       3\n",
       "2638170                             [similar, creationary]       2\n",
       "2638171                                [bad, worst, genre]       2\n",
       "\n",
       "[2405729 rows x 2 columns]"
      ]
     },
     "execution_count": 15,
     "metadata": {
      "tags": []
     },
     "output_type": "execute_result"
    }
   ],
   "source": [
    "reviews.rating = reviews.rating.round().astype(int)\n",
    "\n",
    "reviews"
   ]
  },
  {
   "cell_type": "markdown",
   "metadata": {
    "colab_type": "text",
    "id": "9TKpYJc69V8h"
   },
   "source": [
    "We should have 11 distinct values (0 to 10) after this. Let's see how how many ratings of each category we have."
   ]
  },
  {
   "cell_type": "code",
   "execution_count": 16,
   "metadata": {
    "colab": {
     "base_uri": "https://localhost:8080/",
     "height": 221
    },
    "colab_type": "code",
    "id": "n4IUQ8Gb9o4a",
    "outputId": "7bae1687-ea7a-4a68-f01e-7b09a6243f68"
   },
   "outputs": [
    {
     "data": {
      "text/plain": [
       "8     595145\n",
       "7     520442\n",
       "6     480153\n",
       "9     219429\n",
       "5     200143\n",
       "10    140037\n",
       "4     127085\n",
       "3      66466\n",
       "2      38184\n",
       "1      18634\n",
       "0         11\n",
       "Name: rating, dtype: int64"
      ]
     },
     "execution_count": 16,
     "metadata": {
      "tags": []
     },
     "output_type": "execute_result"
    }
   ],
   "source": [
    "reviews.rating.value_counts()"
   ]
  },
  {
   "cell_type": "markdown",
   "metadata": {
    "colab_type": "text",
    "id": "fWqBsfCdFyHB"
   },
   "source": [
    "We can see that we have less than 50 reviews with a zero rating. Their contribution is fairly negligible so we're going to remove them."
   ]
  },
  {
   "cell_type": "code",
   "execution_count": 17,
   "metadata": {
    "colab": {
     "base_uri": "https://localhost:8080/",
     "height": 34
    },
    "colab_type": "code",
    "id": "t-HRN2xAFpDg",
    "outputId": "4733cf7f-8e30-4ae7-ea80-c4ef5e97f1ba"
   },
   "outputs": [
    {
     "name": "stdout",
     "output_type": "stream",
     "text": [
      "We have (2405718, 2) reviews remaining\n"
     ]
    }
   ],
   "source": [
    "class_distrib = reviews.rating.value_counts(ascending=True)\n",
    "classes_to_drop = class_distrib[class_distrib < 50].index.values\n",
    "\n",
    "for rating in classes_to_drop:\n",
    "    rows_to_drop = reviews[reviews.rating == rating].index.to_list()\n",
    "    reviews.drop(rows_to_drop, inplace=True)\n",
    "    print(\"We have {} reviews remaining\".format(reviews.shape))"
   ]
  },
  {
   "cell_type": "markdown",
   "metadata": {
    "colab_type": "text",
    "id": "t2c9Os-6GqrY"
   },
   "source": [
    "Let's visualize the distribution of ratings a bit better by using a histogram"
   ]
  },
  {
   "cell_type": "code",
   "execution_count": 18,
   "metadata": {
    "colab": {
     "base_uri": "https://localhost:8080/",
     "height": 497
    },
    "colab_type": "code",
    "id": "fQWhpZamFiAK",
    "outputId": "618c0c23-1b75-4ee6-b41d-a7715bda4047"
   },
   "outputs": [
    {
     "data": {
      "image/png": "[encoded data removed]",
      "text/plain": [
       "<Figure size 720x576 with 1 Axes>"
      ]
     },
     "metadata": {
      "needs_background": "light",
      "tags": []
     },
     "output_type": "display_data"
    }
   ],
   "source": [
    "fig, ax = plt.subplots(figsize=(10, 8))\n",
    "sns.barplot(reviews.rating.value_counts().index,\n",
    "            reviews.rating.value_counts(), color=\"#663399\")\n",
    "ax.set_xlabel(\"Rating\")\n",
    "ax.set_ylabel(\"Count\")\n",
    "fig.show()"
   ]
  },
  {
   "cell_type": "markdown",
   "metadata": {
    "colab_type": "text",
    "id": "WeaRg-sAG9Qs"
   },
   "source": [
    "## Splitting dataset for training, validation and testing\n",
    "\n",
    "Looks like the data is following somewhat of a normal distribution. Most of the reviews lie between 6 to 9. This will definitely bias the model as the dataset is imbalanced.\n",
    "\n",
    "Now that we have a vague idea about or course of action, let's split the dataset for training and testing. We will be using around 10% of this data mainly due to the volume and computational constraints."
   ]
  },
  {
   "cell_type": "code",
   "execution_count": 19,
   "metadata": {
    "colab": {
     "base_uri": "https://localhost:8080/",
     "height": 68
    },
    "colab_type": "code",
    "id": "M8rS42hGH18r",
    "outputId": "92d7e71a-0937-47e7-e466-69ae09b7b8e1"
   },
   "outputs": [
    {
     "name": "stdout",
     "output_type": "stream",
     "text": [
      "Number of records chosen for training: 240571\n",
      "Number of records chosen for development: 120286\n",
      "Number of records chosen for testing: 120286\n"
     ]
    }
   ],
   "source": [
    "X_train, X_test, y_train, y_test = train_test_split(\n",
    "    reviews.comment, reviews.rating, train_size=0.1, test_size=0.1)\n",
    "X_dev, X_test, y_dev, y_test = train_test_split(X_test, y_test, train_size=0.5)\n",
    "\n",
    "X_train = X_train.apply(' '.join)\n",
    "X_dev = X_dev.apply(' '.join)\n",
    "X_test = X_test.apply(' '.join)\n",
    "\n",
    "gc.collect()\n",
    "\n",
    "print(\"Number of records chosen for training: {}\".format(X_train.shape[0]))\n",
    "print(\"Number of records chosen for development: {}\".format(X_dev.shape[0]))\n",
    "print(\"Number of records chosen for testing: {}\".format(X_test.shape[0]))"
   ]
  },
  {
   "cell_type": "markdown",
   "metadata": {
    "colab_type": "text",
    "id": "FKOvKZwHX9q-"
   },
   "source": [
    "Great! We've got that sorted. Since we have 10 unique values in ratings and we're dealing with text, let's start off with a Multinomial Naive Bayes Classifier.\n",
    "\n",
    "But, before we do that, we need to calculate the TF-IDF values for our reviews. \n",
    "\n",
    "TF is the term-frequency for every word in the review i.e. the number of times a word has appeared in a review. This is fairly straightforward to calculate by using a counter per review.\n",
    "\n",
    "IDF (Inverse Document Frequency) is slightly more trickier. Essentially, IDF is the weight of a word across all reviews. It is a measure of how common or rare a word is across the corpus. This helps us understand which words need to be prioritized over others. The closer IDF is to 0, the more common it is and the lesser it will contribute to the model. We need to target words that have a weight closer to 1 as they contribute the most.\n",
    "\n",
    "This can be calculated by taking the total number of reviews, dividing it by the number of reviews that contain a word, and calculating the logarithm just to balance large numbers that can arise. This is what the final formula looks like:\n",
    "\n",
    "$tfidf_{i,d} = tf_{i,d} \\cdot idf_{i}$"
   ]
  },
  {
   "cell_type": "code",
   "execution_count": 0,
   "metadata": {
    "colab": {},
    "colab_type": "code",
    "id": "bLaW6kGP_HLS"
   },
   "outputs": [],
   "source": [
    "vectorizer = TfidfVectorizer()\n",
    "\n",
    "X_train_vec = vectorizer.fit_transform(X_train)\n",
    "\n",
    "X_dev_vec = vectorizer.transform(X_dev)\n",
    "X_test_vec = vectorizer.transform(X_test)"
   ]
  },
  {
   "cell_type": "markdown",
   "metadata": {
    "colab_type": "text",
    "id": "75YH2emqPzr0"
   },
   "source": [
    "## Selecting a model\n",
    "\n",
    "We will be testing the following models\n",
    "- Multinomial Naive Bayes (Works well with text data)\n",
    "- Linear Regression (Target column is a number so maybe it will work)\n",
    "- Logistic Regression (Works well with categorical data)\n",
    "\n",
    "First let's give Naive Bayes a shot mainly due to the flexibility we get with text data. Naive Bayes methods are a set of supervised learning algorithms based on applying Bayes’ theorem with the “naive” assumption of conditional independence between every pair of features given the value of the class variable.\n",
    "\n",
    "This is what the final classification rule looks like:\n",
    "\n",
    "$\\hat{y} = \\arg\\max_y P(y) \\prod_{i=1}^{n} P(x_i \\mid y)$"
   ]
  },
  {
   "cell_type": "code",
   "execution_count": 21,
   "metadata": {
    "colab": {
     "base_uri": "https://localhost:8080/",
     "height": 357
    },
    "colab_type": "code",
    "id": "Hp5G4u9sbBY2",
    "outputId": "86308f81-13b3-4198-e207-6bd5b3cb364e"
   },
   "outputs": [
    {
     "name": "stdout",
     "output_type": "stream",
     "text": [
      "Accuracy for Multinomial Naive Bayes = 29.4%\n",
      "\n",
      "Classification Report for Multinomial Naive Bayes\n",
      "              precision    recall  f1-score   support\n",
      "\n",
      "           1     0.0000    0.0000    0.0000       926\n",
      "           2     0.0000    0.0000    0.0000      1845\n",
      "           3     0.0000    0.0000    0.0000      3357\n",
      "           4     0.3286    0.0036    0.0071      6451\n",
      "           5     0.1967    0.0047    0.0093     10112\n",
      "           6     0.2816    0.3333    0.3053     24033\n",
      "           7     0.2678    0.2212    0.2423     25999\n",
      "           8     0.3073    0.7239    0.4314     29635\n",
      "           9     0.2568    0.0035    0.0068     10955\n",
      "          10     0.4318    0.0054    0.0108      6973\n",
      "\n",
      "    accuracy                         0.2940    120286\n",
      "   macro avg     0.2071    0.1296    0.1013    120286\n",
      "weighted avg     0.2724    0.2940    0.2221    120286\n",
      "\n"
     ]
    }
   ],
   "source": [
    "accuracy_log = []\n",
    "\n",
    "mnbc = MultinomialNB()\n",
    "\n",
    "mnbc.fit(X_train_vec, y_train)\n",
    "\n",
    "mnbc_predicted = mnbc.predict(X_dev_vec)\n",
    "\n",
    "acc_score = accuracy_score(mnbc_predicted, y_dev)\n",
    "mnbc_accuracy = round(acc_score * 100, 2)\n",
    "mnbc_report = classification_report(\n",
    "    y_dev, mnbc_predicted, digits=4, zero_division=False)\n",
    "\n",
    "gc.collect()\n",
    "\n",
    "print(\"Accuracy for Multinomial Naive Bayes = {}%\".format(mnbc_accuracy))\n",
    "print()\n",
    "accuracy_log.append(acc_score)\n",
    "print(\"Classification Report for Multinomial Naive Bayes\")\n",
    "print(mnbc_report)"
   ]
  },
  {
   "cell_type": "code",
   "execution_count": 22,
   "metadata": {
    "colab": {
     "base_uri": "https://localhost:8080/",
     "height": 869
    },
    "colab_type": "code",
    "id": "zYkStDMdgd21",
    "outputId": "ff08493c-9c75-43aa-af87-4f68cb00da9b"
   },
   "outputs": [
    {
     "name": "stdout",
     "output_type": "stream",
     "text": [
      "Confusion Matrix for Multinomial Naive Bayes:\n"
     ]
    },
    {
     "data": {
      "image/png": "[encoded data removed]",
      "text/plain": [
       "<Figure size 1080x1080 with 2 Axes>"
      ]
     },
     "metadata": {
      "needs_background": "light",
      "tags": []
     },
     "output_type": "display_data"
    }
   ],
   "source": [
    "print(\"Confusion Matrix for Multinomial Naive Bayes:\")\n",
    "\n",
    "mnb_cm = confusion_matrix(y_dev, mnbc_predicted, normalize='all')\n",
    "\n",
    "fig, ax = plt.subplots(figsize=(15, 15))\n",
    "sns.heatmap(mnb_cm, annot=True, linewidths=0.5, ax=ax,\n",
    "            cmap=\"Purples\", linecolor=\"#663399\", fmt=\"f\", square=True)\n",
    "fig.show()"
   ]
  },
  {
   "cell_type": "markdown",
   "metadata": {
    "colab_type": "text",
    "id": "UhKiqlURJYbu"
   },
   "source": [
    "Let's see how well our model works for a few real-world reviews"
   ]
  },
  {
   "cell_type": "code",
   "execution_count": 23,
   "metadata": {
    "colab": {
     "base_uri": "https://localhost:8080/",
     "height": 119
    },
    "colab_type": "code",
    "id": "jumjZjstJYvo",
    "outputId": "a6f6fb62-fc12-4e86-e6ca-3dc58a82cfd7"
   },
   "outputs": [
    {
     "data": {
      "text/plain": [
       "array([['This game is absolutely pathetic. Horrible story and characters. Will never play this game again.',\n",
       "        '7'],\n",
       "       ['Worst.', '6'],\n",
       "       [\"One of the best games I've ever played. Amazing story and characters. Recommended.\",\n",
       "        '8'],\n",
       "       ['good.', '7']], dtype='<U97')"
      ]
     },
     "execution_count": 23,
     "metadata": {
      "tags": []
     },
     "output_type": "execute_result"
    }
   ],
   "source": [
    "def check_real_review_predictions(model, vectorizer):\n",
    "    real_reviews = [\"This game is absolutely pathetic. Horrible story and characters. Will never play this game again.\",\n",
    "                    \"Worst.\",\n",
    "                    \"One of the best games I've ever played. Amazing story and characters. Recommended.\",\n",
    "                    \"good.\"]\n",
    "\n",
    "    test_vectorizer = TfidfVectorizer(vocabulary=vectorizer.vocabulary_)\n",
    "    vectorized_review = test_vectorizer.fit_transform(real_reviews)\n",
    "    predicted = model.predict(vectorized_review)\n",
    "    combined = np.vstack((real_reviews, predicted)).T\n",
    "    return combined\n",
    "\n",
    "\n",
    "preds = check_real_review_predictions(mnbc, vectorizer)\n",
    "preds"
   ]
  },
  {
   "cell_type": "markdown",
   "metadata": {
    "colab_type": "text",
    "id": "13a8khZjJuvZ"
   },
   "source": [
    "Well, this is exactly what we feared. All our ratings are between 6 to 8.\n",
    "\n",
    "Looks like our model is being biased by our input data. I've got a feeling that some form of regression would work slighlty better here. Let's give Linear Regression a shot."
   ]
  },
  {
   "cell_type": "code",
   "execution_count": 24,
   "metadata": {
    "colab": {
     "base_uri": "https://localhost:8080/",
     "height": 34
    },
    "colab_type": "code",
    "id": "xpXk8F1hTXwz",
    "outputId": "70a1078e-8686-424f-964f-f977b1354a34"
   },
   "outputs": [
    {
     "name": "stdout",
     "output_type": "stream",
     "text": [
      "Accuracy for Linear Regression = 27.47%\n"
     ]
    }
   ],
   "source": [
    "linreg = LinearRegression(n_jobs=4)\n",
    "\n",
    "linreg.fit(X_train_vec, y_train)\n",
    "\n",
    "linreg_predicted = linreg.predict(X_dev_vec)\n",
    "\n",
    "acc_score = accuracy_score(np.round(linreg_predicted), y_dev)\n",
    "linreg_accuracy_round = round(acc_score * 100, 2)\n",
    "\n",
    "gc.collect()\n",
    "\n",
    "print(\"Accuracy for Linear Regression = {}%\".format(linreg_accuracy_round))\n",
    "accuracy_log.append(acc_score)"
   ]
  },
  {
   "cell_type": "markdown",
   "metadata": {
    "colab_type": "text",
    "id": "xx3B_fEhUUvT"
   },
   "source": [
    "The accuracy is a little worse but let's check with some of our reviews before we dismiss this idea."
   ]
  },
  {
   "cell_type": "code",
   "execution_count": 25,
   "metadata": {
    "colab": {
     "base_uri": "https://localhost:8080/",
     "height": 119
    },
    "colab_type": "code",
    "id": "xxb4CxZWTgRZ",
    "outputId": "92851f2e-5f09-46f2-ccb5-8766dedcd9f7"
   },
   "outputs": [
    {
     "data": {
      "text/plain": [
       "array([['This game is absolutely pathetic. Horrible story and characters. Will never play this game again.',\n",
       "        '4.437034389776194'],\n",
       "       ['Worst.', '2.3588930267669355'],\n",
       "       [\"One of the best games I've ever played. Amazing story and characters. Recommended.\",\n",
       "        '9.024957161994099'],\n",
       "       ['good.', '7.021012417756805']], dtype='<U97')"
      ]
     },
     "execution_count": 25,
     "metadata": {
      "tags": []
     },
     "output_type": "execute_result"
    }
   ],
   "source": [
    "preds = check_real_review_predictions(linreg, vectorizer)\n",
    "preds"
   ]
  },
  {
   "cell_type": "markdown",
   "metadata": {
    "colab_type": "text",
    "id": "OXvo5-h3Uhgp"
   },
   "source": [
    "Perfect. Looks like we are on the right track. Since this is mainly a classification problem, Logistic Regression would be a better fit here. Let's try that:"
   ]
  },
  {
   "cell_type": "code",
   "execution_count": 26,
   "metadata": {
    "colab": {
     "base_uri": "https://localhost:8080/",
     "height": 357
    },
    "colab_type": "code",
    "id": "ZcNe9YLbL7jm",
    "outputId": "b61f4fee-18e2-499b-e2d2-d6ad5b4dd7f4"
   },
   "outputs": [
    {
     "name": "stdout",
     "output_type": "stream",
     "text": [
      "Accuracy for Logistic Regression = 29.94%\n",
      "\n",
      "Classification Report for Logistic Regression\n",
      "              precision    recall  f1-score   support\n",
      "\n",
      "           1     0.2321    0.0594    0.0946       926\n",
      "           2     0.2030    0.0580    0.0902      1845\n",
      "           3     0.2054    0.0316    0.0547      3357\n",
      "           4     0.2100    0.0632    0.0972      6451\n",
      "           5     0.2145    0.0562    0.0890     10112\n",
      "           6     0.2888    0.3937    0.3332     24033\n",
      "           7     0.2679    0.2854    0.2764     25999\n",
      "           8     0.3337    0.5489    0.4151     29635\n",
      "           9     0.2703    0.0481    0.0817     10955\n",
      "          10     0.3354    0.1565    0.2134      6973\n",
      "\n",
      "    accuracy                         0.2994    120286\n",
      "   macro avg     0.2561    0.1701    0.1745    120286\n",
      "weighted avg     0.2818    0.2994    0.2647    120286\n",
      "\n"
     ]
    }
   ],
   "source": [
    "logreg = LogisticRegression(n_jobs=4)\n",
    "\n",
    "logreg.fit(X_train_vec, y_train)\n",
    "\n",
    "logreg_predicted = logreg.predict(X_dev_vec)\n",
    "\n",
    "logreg_accuracy = round(accuracy_score(logreg_predicted, y_dev) * 100, 2)\n",
    "logreg_report = classification_report(\n",
    "    y_dev, logreg_predicted, digits=4, zero_division=False)\n",
    "\n",
    "gc.collect()\n",
    "\n",
    "print(\"Accuracy for Logistic Regression = {}%\".format(logreg_accuracy))\n",
    "print()\n",
    "accuracy_log.append(acc_score)\n",
    "print(\"Classification Report for Logistic Regression\")\n",
    "print(logreg_report)"
   ]
  },
  {
   "cell_type": "markdown",
   "metadata": {
    "colab_type": "text",
    "id": "RMTDZkFUOVDt"
   },
   "source": [
    "While our acurracy is better, our solution hasn't fully converged. Let's increase the max iterations to a high value and see where it converges.\n",
    "\n",
    "We can then use that and see how our model does. The default value is 100 so we will be increasing it to 1000."
   ]
  },
  {
   "cell_type": "code",
   "execution_count": 27,
   "metadata": {
    "colab": {
     "base_uri": "https://localhost:8080/",
     "height": 374
    },
    "colab_type": "code",
    "id": "ZPeGTkzfOSE_",
    "outputId": "c2dfb1b9-931a-4359-ba88-775135153b94"
   },
   "outputs": [
    {
     "name": "stdout",
     "output_type": "stream",
     "text": [
      "Accuracy for Logistic Regression = 30.08%\n",
      "\n",
      "Classification Report for Logistic Regression\n",
      "              precision    recall  f1-score   support\n",
      "\n",
      "           1     0.3687    0.0713    0.1195       926\n",
      "           2     0.2318    0.0569    0.0914      1845\n",
      "           3     0.2272    0.0349    0.0604      3357\n",
      "           4     0.2103    0.0629    0.0969      6451\n",
      "           5     0.2022    0.0552    0.0867     10112\n",
      "           6     0.2902    0.3916    0.3334     24033\n",
      "           7     0.2717    0.2817    0.2766     25999\n",
      "           8     0.3310    0.5616    0.4165     29635\n",
      "           9     0.2674    0.0504    0.0848     10955\n",
      "          10     0.3666    0.1428    0.2056      6973\n",
      "\n",
      "    accuracy                         0.3008    120286\n",
      "   macro avg     0.2767    0.1709    0.1772    120286\n",
      "weighted avg     0.2849    0.3008    0.2651    120286\n",
      "\n",
      "Solution converged at iteration = 637\n"
     ]
    }
   ],
   "source": [
    "logreg = LogisticRegression(max_iter=1000, n_jobs=4)\n",
    "\n",
    "logreg.fit(X_train_vec, y_train)\n",
    "\n",
    "logreg_predicted = logreg.predict(X_dev_vec)\n",
    "\n",
    "acc_score = accuracy_score(logreg_predicted, y_dev)\n",
    "logreg_accuracy = round(acc_score * 100, 2)\n",
    "logreg_report = classification_report(\n",
    "    y_dev, logreg_predicted, digits=4, zero_division=False)\n",
    "\n",
    "gc.collect()\n",
    "\n",
    "print(\"Accuracy for Logistic Regression = {}%\".format(logreg_accuracy))\n",
    "print()\n",
    "accuracy_log.append(acc_score)\n",
    "print(\"Classification Report for Logistic Regression\")\n",
    "print(logreg_report)\n",
    "print(\"Solution converged at iteration = {}\".format(logreg.n_iter_[-1]))"
   ]
  },
  {
   "cell_type": "markdown",
   "metadata": {
    "colab_type": "text",
    "id": "Y0QhCujzwKQb"
   },
   "source": [
    "Let's have a look at the confision matrix and see if things got any better"
   ]
  },
  {
   "cell_type": "code",
   "execution_count": 28,
   "metadata": {
    "colab": {
     "base_uri": "https://localhost:8080/",
     "height": 863
    },
    "colab_type": "code",
    "id": "QX4WxRO0kXFR",
    "outputId": "28c11fd6-e1c7-496a-bbdb-8a3c399cc051"
   },
   "outputs": [
    {
     "name": "stdout",
     "output_type": "stream",
     "text": [
      "Confusion Matrix for Logistic Regression:\n"
     ]
    },
    {
     "data": {
      "image/png": "[encoded data removed]",
      "text/plain": [
       "<Figure size 1080x1080 with 2 Axes>"
      ]
     },
     "metadata": {
      "needs_background": "light",
      "tags": []
     },
     "output_type": "display_data"
    }
   ],
   "source": [
    "print(\"Confusion Matrix for Logistic Regression:\")\n",
    "\n",
    "logreg_cm = confusion_matrix(y_dev, logreg_predicted, normalize='all')\n",
    "\n",
    "fig, ax = plt.subplots(figsize=(15, 15))\n",
    "sns.heatmap(logreg_cm, annot=True, linewidths=0.5, ax=ax,\n",
    "            cmap=\"Purples\", linecolor=\"#663399\", fmt=\"f\", square=True)\n",
    "fig.show()"
   ]
  },
  {
   "cell_type": "markdown",
   "metadata": {
    "colab_type": "text",
    "id": "0P9q025xlme4"
   },
   "source": [
    "While we did lose some accuracy, our solution has converged and the confusion matrix looks slightly better. Let's see how it classifies our real world reviews."
   ]
  },
  {
   "cell_type": "code",
   "execution_count": 29,
   "metadata": {
    "colab": {
     "base_uri": "https://localhost:8080/",
     "height": 119
    },
    "colab_type": "code",
    "id": "jdUHicUvPVx6",
    "outputId": "a3b61c48-f16e-4392-e7e8-438375f900b2"
   },
   "outputs": [
    {
     "data": {
      "text/plain": [
       "array([['This game is absolutely pathetic. Horrible story and characters. Will never play this game again.',\n",
       "        '1'],\n",
       "       ['Worst.', '1'],\n",
       "       [\"One of the best games I've ever played. Amazing story and characters. Recommended.\",\n",
       "        '10'],\n",
       "       ['good.', '7']], dtype='<U97')"
      ]
     },
     "execution_count": 29,
     "metadata": {
      "tags": []
     },
     "output_type": "execute_result"
    }
   ],
   "source": [
    "preds = check_real_review_predictions(logreg, vectorizer)\n",
    "preds"
   ]
  },
  {
   "cell_type": "markdown",
   "metadata": {
    "colab_type": "text",
    "id": "E6hL55YelwMy"
   },
   "source": [
    "Perfect! These ratings correspond somewhat to what we were expecting.\n",
    "\n",
    "But before we move ahead, we will ensure the consistency of these metrics by using Stratified K-Fold cross validation.\n",
    "\n",
    "Since we are dealing with imbalanced data, a Stratified K-Fold is necessary to maintain the distribution of the input dataset."
   ]
  },
  {
   "cell_type": "code",
   "execution_count": 30,
   "metadata": {
    "colab": {
     "base_uri": "https://localhost:8080/",
     "height": 119
    },
    "colab_type": "code",
    "id": "96x90Ocp6bu1",
    "outputId": "b420689b-a4f9-4b77-d984-c951d8da4d5f"
   },
   "outputs": [
    {
     "name": "stdout",
     "output_type": "stream",
     "text": [
      "Accuracy for Logistic Regression Fold 1 = 30.94%\n",
      "\n",
      "Accuracy for Logistic Regression Fold 2 = 31.6%\n",
      "\n",
      "Accuracy for Logistic Regression Fold 3 = 28.53%\n",
      "\n"
     ]
    }
   ],
   "source": [
    "kfold = KFold(n_splits=3)\n",
    "fold = 1\n",
    "\n",
    "for train_index, test_index in kfold.split(X_train, y_train):\n",
    "    X_tr, X_te = X_train[X_train.index.isin(\n",
    "        train_index)], X_train[X_train.index.isin(test_index)]\n",
    "    y_tr, y_te = y_train[y_train.index.isin(\n",
    "        train_index)], y_train[y_train.index.isin(test_index)]\n",
    "\n",
    "    vectorizer = TfidfVectorizer()\n",
    "\n",
    "    X_tr_vec = vectorizer.fit_transform(X_tr)\n",
    "    X_te_vec = vectorizer.transform(X_te)\n",
    "\n",
    "    logreg.fit(X_tr_vec, y_tr)\n",
    "\n",
    "    logreg_predicted = logreg.predict(X_te_vec)\n",
    "\n",
    "    acc_score = accuracy_score(logreg_predicted, y_te)\n",
    "    logreg_accuracy = round(acc_score * 100, 2)\n",
    "\n",
    "    gc.collect()\n",
    "\n",
    "    print(\"Accuracy for Logistic Regression Fold {} = {}%\".format(\n",
    "        fold, logreg_accuracy))\n",
    "    print()\n",
    "    fold += 1"
   ]
  },
  {
   "cell_type": "markdown",
   "metadata": {
    "colab_type": "text",
    "id": "2qHn4gfbG67e"
   },
   "source": [
    "Looks like Logistic Regression is performaing fairly well when compared to it's Linear counterpart or even Naive Bayes for that matter. Let's see how the model is performing on the unseen test data."
   ]
  },
  {
   "cell_type": "code",
   "execution_count": 31,
   "metadata": {
    "colab": {
     "base_uri": "https://localhost:8080/",
     "height": 34
    },
    "colab_type": "code",
    "id": "p1yA-iXB55MH",
    "outputId": "794d14ed-ab4f-4bc2-ff69-321f18cde520"
   },
   "outputs": [
    {
     "name": "stdout",
     "output_type": "stream",
     "text": [
      "Final Accuracy for test data with Logistic Regression = 30.16%\n"
     ]
    }
   ],
   "source": [
    "logreg.fit(X_train_vec, y_train)\n",
    "final_predicted = logreg.predict(X_test_vec)\n",
    "\n",
    "acc_score = accuracy_score(final_predicted, y_test)\n",
    "logreg_accuracy = round(acc_score * 100, 2)\n",
    "\n",
    "print(\"Final Accuracy for test data with Logistic Regression = {}%\".format(\n",
    "    logreg_accuracy))"
   ]
  },
  {
   "cell_type": "markdown",
   "metadata": {
    "colab_type": "text",
    "id": "gnowhUjtHlNy"
   },
   "source": [
    "While this isn't the accuracy we were expecting it looks like our accuracy is platueauing. This could be due to the inherent bias in the dataset.\n",
    "\n",
    "Due to this, I will be training the model using a around 50% of the data and pickling it so that we can use it in our online Flask application to predict any new reviews that a user can input."
   ]
  },
  {
   "cell_type": "code",
   "execution_count": 32,
   "metadata": {
    "colab": {
     "base_uri": "https://localhost:8080/",
     "height": 51
    },
    "colab_type": "code",
    "id": "hpqfOSwTiH8a",
    "outputId": "6dbca65f-74e3-434b-c334-53810323e3ca"
   },
   "outputs": [
    {
     "name": "stdout",
     "output_type": "stream",
     "text": [
      "Number of records chosen for training the final model = 1202859\n"
     ]
    },
    {
     "data": {
      "text/plain": [
       "42"
      ]
     },
     "execution_count": 32,
     "metadata": {
      "tags": []
     },
     "output_type": "execute_result"
    }
   ],
   "source": [
    "X_train, _, y_train, _ = train_test_split(\n",
    "    reviews.comment, reviews.rating, train_size=0.5, test_size=0.01)\n",
    "X_train = X_train.apply(' '.join)\n",
    "\n",
    "print(\"Number of records chosen for training the final model = {}\".format(\n",
    "    X_train.shape[0]))\n",
    "\n",
    "vectorizer = TfidfVectorizer()\n",
    "X_train_vec = vectorizer.fit_transform(X_train)\n",
    "\n",
    "logreg.fit(X_train_vec, y_train)\n",
    "gc.collect()"
   ]
  },
  {
   "cell_type": "markdown",
   "metadata": {
    "colab_type": "text",
    "id": "Kmm-ixvn5878"
   },
   "source": [
    "We will pickle this model and the vocabulary of the TF-IDF vectorizer. This will be used in the Flask application that we will be building."
   ]
  },
  {
   "cell_type": "code",
   "execution_count": 33,
   "metadata": {
    "colab": {
     "base_uri": "https://localhost:8080/",
     "height": 51
    },
    "colab_type": "code",
    "id": "fGtal82vO3lx",
    "outputId": "e17e2fdb-ea4d-4c53-ac8f-f2e70f3f6dfe"
   },
   "outputs": [
    {
     "name": "stdout",
     "output_type": "stream",
     "text": [
      "Pickling model\n",
      "Pickling vocabulary\n"
     ]
    }
   ],
   "source": [
    "if os.path.isfile(MODEL_PICKLE) or REVIEWS_DATA_CHANGED:\n",
    "    print('Pickled model already present')\n",
    "    os.remove(DATA_DIR + MODEL_PICKLE)\n",
    "\n",
    "if os.path.isfile(VOCABULARY_PICKLE) or REVIEWS_DATA_CHANGED:\n",
    "    print('Pickled vocab already present')\n",
    "    os.remove(DATA_DIR + VOCABULARY_PICKLE)\n",
    "\n",
    "print(\"Pickling model\")\n",
    "pickle.dump(logreg, open(MODEL_PICKLE, \"wb\"))\n",
    "\n",
    "print(\"Pickling vocabulary\")\n",
    "pickle.dump(vectorizer.vocabulary_, open(VOCABULARY_PICKLE, \"wb\"))"
   ]
  },
  {
   "cell_type": "markdown",
   "metadata": {
    "colab_type": "text",
    "id": "yTWVBykHO4GO"
   },
   "source": [
    "## My contribution\n",
    "\n",
    "Built a Flask application that predicts the rating of any review. Please visit the page [here](https://karanr.dev/rating-predictor) and enter a review. You should see the prediction for that review. This application has been deployed on Heroku and the form is available on my Portfolio website that is built using GatsbyJS. The code for this application is available on my [GitHub](https://github.com/karanrajpal14/rating-predictor).\n",
    "\n",
    "You can also see a demo of this application on [YouTube](https://www.youtube.com/watch?v=97LN1FVY6gU).\n",
    "\n",
    "A copy of the dataset and it's pickle files are available [here](https://drive.google.com/open?id=1uW3E6lwW0A9ay30Q6LLcoUAHYBE9pQUk) and the IPython Notebook can be downloaded from [here](https://www.karanr.dev/rating_predictor.ipynb). **(Right-click and Save As to download the file)**"
   ]
  }
 ],
 "metadata": {
  "colab": {
   "collapsed_sections": [],
   "name": "rating_predictor.ipynb",
   "provenance": [],
   "toc_visible": true
  },
  "kernelspec": {
   "display_name": "Python 3",
   "language": "python",
   "name": "python3"
  },
  "language_info": {
   "codemirror_mode": {
    "name": "ipython",
    "version": 3
   },
   "file_extension": ".py",
   "mimetype": "text/x-python",
   "name": "python",
   "nbconvert_exporter": "python",
   "pygments_lexer": "ipython3",
   "version": "3.6.10"
  }
 },
 "nbformat": 4,
 "nbformat_minor": 1
}