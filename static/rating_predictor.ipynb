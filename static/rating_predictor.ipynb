{
  "nbformat": 4,
  "nbformat_minor": 0,
  "metadata": {
    "colab": {
      "name": "dm-p2-rating-predictor.ipynb",
      "provenance": [],
      "collapsed_sections": []
    },
    "kernelspec": {
      "name": "python3",
      "display_name": "Python 3"
    }
  },
  "cells": [
    {
      "cell_type": "markdown",
      "metadata": {
        "id": "D3CcuWXNmycT",
        "colab_type": "text"
      },
      "source": [
        "# Predict rating of review using BoardGameGeek Reviews dataset\n",
        "\n",
        "**The goal of this project is to use the corpus of reviews present in this dataset, learn the reviews and their corresponding rating.**\n",
        "\n",
        "**Once the model is trained using the review data, we ask the user to input a new review and predict the rating of that review.**\n",
        "\n",
        "We begin by importing all the basic libraries:"
      ]
    },
    {
      "cell_type": "code",
      "metadata": {
        "id": "RtXAALBKnNKF",
        "colab_type": "code",
        "colab": {}
      },
      "source": [
        "!pip install -q pandas numpy nltk scikit-learn matplotlib seaborn wordcloud ipython"
      ],
      "execution_count": 0,
      "outputs": []
    },
    {
      "cell_type": "code",
      "metadata": {
        "id": "UBkZnlsDkpGW",
        "colab_type": "code",
        "outputId": "2aecd263-0799-4f9c-8bbe-ad878e6d8ddc",
        "colab": {
          "base_uri": "https://localhost:8080/",
          "height": 69
        }
      },
      "source": [
        "import os\n",
        "import pickle\n",
        "import string\n",
        "import re\n",
        "import gc\n",
        "import random\n",
        "\n",
        "import pandas as pd\n",
        "import numpy as np\n",
        "\n",
        "import nltk\n",
        "from nltk.corpus import stopwords\n",
        "\n",
        "from sklearn.feature_extraction.text import TfidfVectorizer\n",
        "from sklearn.linear_model import LogisticRegression, LinearRegression\n",
        "from sklearn.naive_bayes import MultinomialNB\n",
        "\n",
        "from sklearn.model_selection import train_test_split\n",
        "from sklearn.metrics import confusion_matrix, classification_report, accuracy_score\n",
        "\n",
        "from matplotlib import pyplot as plt\n",
        "import seaborn as sns\n",
        "from wordcloud import WordCloud\n",
        "from IPython.display import display, HTML\n",
        "\n",
        "nltk.download(['words', 'stopwords', 'wordnet'], quiet=True)"
      ],
      "execution_count": 2,
      "outputs": [
        {
          "output_type": "stream",
          "text": [
            "/usr/local/lib/python3.6/dist-packages/statsmodels/tools/_testing.py:19: FutureWarning: pandas.util.testing is deprecated. Use the functions in the public API at pandas.testing instead.\n",
            "  import pandas.util.testing as tm\n"
          ],
          "name": "stderr"
        },
        {
          "output_type": "execute_result",
          "data": {
            "text/plain": [
              "True"
            ]
          },
          "metadata": {
            "tags": []
          },
          "execution_count": 2
        }
      ]
    },
    {
      "cell_type": "markdown",
      "metadata": {
        "id": "PFs0D8X4nbCz",
        "colab_type": "text"
      },
      "source": [
        "Here we define the paths of the dataset and the pickle files\n",
        "\n",
        "We will be pickling our dataset after every major step due to save time\n",
        "\n",
        "Due to the sheer amount of data we have, it does take time to do pre-processing\n",
        "\n",
        "Also, I will be invoking the garbage collector often just to save memory as we need every bit of it due to the volume of input data"
      ]
    },
    {
      "cell_type": "code",
      "metadata": {
        "id": "2uaMvsWKmuwC",
        "colab_type": "code",
        "colab": {}
      },
      "source": [
        "DATA_DIR = \"/content/drive/My Drive/Colab Notebooks/data/\"\n",
        "\n",
        "DATASET = DATA_DIR + \"bgg-13m-reviews.csv\"\n",
        "\n",
        "REVIEWS_PICKLE = DATA_DIR + \"reviews.pkl\"\n",
        "REVIEWS_DATA_CHANGED = False\n",
        "\n",
        "CLEAN_TEXT_PICKLE = DATA_DIR + \"clean_text.pkl\"\n",
        "LEMMATIZED_PICKLE = DATA_DIR + \"lemmatized.pkl\"\n",
        "STOPWORDS_PICKLE = DATA_DIR + \"stopwords.pkl\"\n",
        "CLEANED_PICKLE = DATA_DIR + \"cleaned_reviews.pkl\""
      ],
      "execution_count": 0,
      "outputs": []
    },
    {
      "cell_type": "markdown",
      "metadata": {
        "id": "jM6zGRMZngL1",
        "colab_type": "text"
      },
      "source": [
        "Now that we've got the formalities out of our way, let's start exploring our dataset and see how we can solve this problem.\n",
        "\n",
        "First, we need to load the dataset like so:"
      ]
    },
    {
      "cell_type": "code",
      "metadata": {
        "id": "4Wlh2Ogynjz3",
        "colab_type": "code",
        "outputId": "175a6008-fbfd-458b-eb17-bcc37b6edd68",
        "colab": {
          "base_uri": "https://localhost:8080/",
          "height": 441
        }
      },
      "source": [
        "reviews = pd.DataFrame()\n",
        "\n",
        "if os.path.isfile(REVIEWS_PICKLE) or REVIEWS_DATA_CHANGED:\n",
        "  print('Pickled reviews found. Loading from pickle file.')\n",
        "  reviews = pd.read_pickle(REVIEWS_PICKLE, compression=\"gzip\")\n",
        "else:\n",
        "  print(\"Reading reviews csv\")\n",
        "  reviews = pd.read_csv(REVIEWS_FILE, usecols=['comment', 'rating'])\n",
        "  print(\"Pickling dataset\")\n",
        "  reviews.to_pickle(REVIEWS_PICKLE, compression=\"gzip\")\n",
        "\n",
        "reviews = reviews.reindex(columns=['comment','rating'])\n",
        "\n",
        "reviews = reviews.sample(frac=1, random_state=3).reset_index(drop=True)\n",
        "\n",
        "gc.collect()\n",
        "display(reviews)"
      ],
      "execution_count": 4,
      "outputs": [
        {
          "output_type": "stream",
          "text": [
            "Pickled reviews found. Loading from pickle file.\n"
          ],
          "name": "stdout"
        },
        {
          "output_type": "display_data",
          "data": {
            "text/html": [
              "<div>\n",
              "<style scoped>\n",
              "    .dataframe tbody tr th:only-of-type {\n",
              "        vertical-align: middle;\n",
              "    }\n",
              "\n",
              "    .dataframe tbody tr th {\n",
              "        vertical-align: top;\n",
              "    }\n",
              "\n",
              "    .dataframe thead th {\n",
              "        text-align: right;\n",
              "    }\n",
              "</style>\n",
              "<table border=\"1\" class=\"dataframe\">\n",
              "  <thead>\n",
              "    <tr style=\"text-align: right;\">\n",
              "      <th></th>\n",
              "      <th>comment</th>\n",
              "      <th>rating</th>\n",
              "    </tr>\n",
              "  </thead>\n",
              "  <tbody>\n",
              "    <tr>\n",
              "      <th>0</th>\n",
              "      <td>NaN</td>\n",
              "      <td>6.5</td>\n",
              "    </tr>\n",
              "    <tr>\n",
              "      <th>1</th>\n",
              "      <td>NaN</td>\n",
              "      <td>8.0</td>\n",
              "    </tr>\n",
              "    <tr>\n",
              "      <th>2</th>\n",
              "      <td>NaN</td>\n",
              "      <td>8.0</td>\n",
              "    </tr>\n",
              "    <tr>\n",
              "      <th>3</th>\n",
              "      <td>NaN</td>\n",
              "      <td>7.0</td>\n",
              "    </tr>\n",
              "    <tr>\n",
              "      <th>4</th>\n",
              "      <td>http://boardgamers.ro/saboteur-recenzie/</td>\n",
              "      <td>6.0</td>\n",
              "    </tr>\n",
              "    <tr>\n",
              "      <th>...</th>\n",
              "      <td>...</td>\n",
              "      <td>...</td>\n",
              "    </tr>\n",
              "    <tr>\n",
              "      <th>13170068</th>\n",
              "      <td>\"Solid deck-builder in which you need to strat...</td>\n",
              "      <td>6.5</td>\n",
              "    </tr>\n",
              "    <tr>\n",
              "      <th>13170069</th>\n",
              "      <td>I adore this game. Not only is it an incredibl...</td>\n",
              "      <td>10.0</td>\n",
              "    </tr>\n",
              "    <tr>\n",
              "      <th>13170070</th>\n",
              "      <td>NaN</td>\n",
              "      <td>9.0</td>\n",
              "    </tr>\n",
              "    <tr>\n",
              "      <th>13170071</th>\n",
              "      <td>NaN</td>\n",
              "      <td>6.0</td>\n",
              "    </tr>\n",
              "    <tr>\n",
              "      <th>13170072</th>\n",
              "      <td>Still the easiest game to get to the table. Es...</td>\n",
              "      <td>6.0</td>\n",
              "    </tr>\n",
              "  </tbody>\n",
              "</table>\n",
              "<p>13170073 rows × 2 columns</p>\n",
              "</div>"
            ],
            "text/plain": [
              "                                                    comment  rating\n",
              "0                                                       NaN     6.5\n",
              "1                                                       NaN     8.0\n",
              "2                                                       NaN     8.0\n",
              "3                                                       NaN     7.0\n",
              "4                  http://boardgamers.ro/saboteur-recenzie/     6.0\n",
              "...                                                     ...     ...\n",
              "13170068  \"Solid deck-builder in which you need to strat...     6.5\n",
              "13170069  I adore this game. Not only is it an incredibl...    10.0\n",
              "13170070                                                NaN     9.0\n",
              "13170071                                                NaN     6.0\n",
              "13170072  Still the easiest game to get to the table. Es...     6.0\n",
              "\n",
              "[13170073 rows x 2 columns]"
            ]
          },
          "metadata": {
            "tags": []
          }
        }
      ]
    },
    {
      "cell_type": "markdown",
      "metadata": {
        "id": "wYT_ZKYXoAHj",
        "colab_type": "text"
      },
      "source": [
        "Great! We've got our dataset loaded.\n",
        "\n",
        "Also, consecutive runs should be faster because we've pickled the data\n",
        "\n",
        "As we can see, we've got several rows with no review and just a rating\n",
        "\n",
        "We will be removing this rows as we cannot use them"
      ]
    },
    {
      "cell_type": "code",
      "metadata": {
        "id": "zASPBXlXn_Nl",
        "colab_type": "code",
        "outputId": "4cbd579b-c693-4b72-9580-c2435101581f",
        "colab": {
          "base_uri": "https://localhost:8080/",
          "height": 459
        }
      },
      "source": [
        "empty_reviews = reviews.comment.isna().sum()\n",
        "print(\"Dropping {} rows from dataset\".format(empty_reviews))\n",
        "\n",
        "reviews.dropna(subset=['comment'], inplace=True)\n",
        "reviews = reviews.reset_index(drop=True)\n",
        "\n",
        "print(\"We now have {} reviews remaining\".format(reviews.shape[0]))\n",
        "\n",
        "gc.collect()\n",
        "display(reviews)"
      ],
      "execution_count": 5,
      "outputs": [
        {
          "output_type": "stream",
          "text": [
            "Dropping 10531901 rows from dataset\n",
            "We now have 2638172 reviews remaining\n"
          ],
          "name": "stdout"
        },
        {
          "output_type": "display_data",
          "data": {
            "text/html": [
              "<div>\n",
              "<style scoped>\n",
              "    .dataframe tbody tr th:only-of-type {\n",
              "        vertical-align: middle;\n",
              "    }\n",
              "\n",
              "    .dataframe tbody tr th {\n",
              "        vertical-align: top;\n",
              "    }\n",
              "\n",
              "    .dataframe thead th {\n",
              "        text-align: right;\n",
              "    }\n",
              "</style>\n",
              "<table border=\"1\" class=\"dataframe\">\n",
              "  <thead>\n",
              "    <tr style=\"text-align: right;\">\n",
              "      <th></th>\n",
              "      <th>comment</th>\n",
              "      <th>rating</th>\n",
              "    </tr>\n",
              "  </thead>\n",
              "  <tbody>\n",
              "    <tr>\n",
              "      <th>0</th>\n",
              "      <td>http://boardgamers.ro/saboteur-recenzie/</td>\n",
              "      <td>6.0</td>\n",
              "    </tr>\n",
              "    <tr>\n",
              "      <th>1</th>\n",
              "      <td>A nice family game but a little light for my o...</td>\n",
              "      <td>5.0</td>\n",
              "    </tr>\n",
              "    <tr>\n",
              "      <th>2</th>\n",
              "      <td>\"This was the first modern board game that my ...</td>\n",
              "      <td>8.0</td>\n",
              "    </tr>\n",
              "    <tr>\n",
              "      <th>3</th>\n",
              "      <td>Great two player game. In fact, how did Knizia...</td>\n",
              "      <td>9.0</td>\n",
              "    </tr>\n",
              "    <tr>\n",
              "      <th>4</th>\n",
              "      <td>Risk but with more pieces.</td>\n",
              "      <td>5.0</td>\n",
              "    </tr>\n",
              "    <tr>\n",
              "      <th>...</th>\n",
              "      <td>...</td>\n",
              "      <td>...</td>\n",
              "    </tr>\n",
              "    <tr>\n",
              "      <th>2638167</th>\n",
              "      <td>Great light game. Theme and simplicity make it...</td>\n",
              "      <td>7.0</td>\n",
              "    </tr>\n",
              "    <tr>\n",
              "      <th>2638168</th>\n",
              "      <td>Detailed board  All sleeved</td>\n",
              "      <td>9.0</td>\n",
              "    </tr>\n",
              "    <tr>\n",
              "      <th>2638169</th>\n",
              "      <td>\"Solid deck-builder in which you need to strat...</td>\n",
              "      <td>6.5</td>\n",
              "    </tr>\n",
              "    <tr>\n",
              "      <th>2638170</th>\n",
              "      <td>I adore this game. Not only is it an incredibl...</td>\n",
              "      <td>10.0</td>\n",
              "    </tr>\n",
              "    <tr>\n",
              "      <th>2638171</th>\n",
              "      <td>Still the easiest game to get to the table. Es...</td>\n",
              "      <td>6.0</td>\n",
              "    </tr>\n",
              "  </tbody>\n",
              "</table>\n",
              "<p>2638172 rows × 2 columns</p>\n",
              "</div>"
            ],
            "text/plain": [
              "                                                   comment  rating\n",
              "0                 http://boardgamers.ro/saboteur-recenzie/     6.0\n",
              "1        A nice family game but a little light for my o...     5.0\n",
              "2        \"This was the first modern board game that my ...     8.0\n",
              "3        Great two player game. In fact, how did Knizia...     9.0\n",
              "4                               Risk but with more pieces.     5.0\n",
              "...                                                    ...     ...\n",
              "2638167  Great light game. Theme and simplicity make it...     7.0\n",
              "2638168                        Detailed board  All sleeved     9.0\n",
              "2638169  \"Solid deck-builder in which you need to strat...     6.5\n",
              "2638170  I adore this game. Not only is it an incredibl...    10.0\n",
              "2638171  Still the easiest game to get to the table. Es...     6.0\n",
              "\n",
              "[2638172 rows x 2 columns]"
            ]
          },
          "metadata": {
            "tags": []
          }
        }
      ]
    },
    {
      "cell_type": "markdown",
      "metadata": {
        "id": "F9We3K5UolXX",
        "colab_type": "text"
      },
      "source": [
        "## Cleaning the reviews\n",
        "\n",
        "Wow! That was a huge difference. We've shed off about 10 million rows!\n",
        "\n",
        "Now, we need to begin cleaning up these reviews as they have a lot of redundant information and context.\n",
        "\n",
        "For this dataset, we will be removing the following patterns from the text:\n",
        "- Words less than 3 and more than 15 characters\n",
        "- Special characters\n",
        "- URLs\n",
        "- HTML tags\n",
        "- All kinds of redundant whitespaces\n",
        "- Words that have numbers between them\n",
        "- Words that begin or end with a number\n",
        "\n",
        "Once all this is done, we tokenize the reviews and save them in the dataframe"
      ]
    },
    {
      "cell_type": "code",
      "metadata": {
        "id": "cKkGpl8Hoolp",
        "colab_type": "code",
        "outputId": "3d1216c7-31f3-4126-d8b2-85aed35785e4",
        "colab": {
          "base_uri": "https://localhost:8080/",
          "height": 441
        }
      },
      "source": [
        "def clean_text(text):\n",
        "    text = text.lower().strip()\n",
        "    text = \" \".join([w for w in text.split() if len(w) >= 3 and len(w) <= 15])\n",
        "    text = re.sub('\\[.*?\\]', '', text)\n",
        "    text = re.sub('https?://\\S+|www\\.\\S+', '', text)\n",
        "    text = re.sub('<.*?>+', '', text)\n",
        "    text = re.sub('[%s]' % re.escape(string.punctuation), '', text)\n",
        "    text = re.sub('\\n', '', text)\n",
        "    text = re.sub('\\w+\\d+\\w*', '', text)\n",
        "    text = re.sub('\\d+\\w+\\d*', '', text)\n",
        "    text = re.sub('\\W+', '', text)\n",
        "    text = tokenizer.tokenize(text)\n",
        "    return text\n",
        "\n",
        "if os.path.isfile(CLEAN_TEXT_PICKLE) or REVIEWS_DATA_CHANGED:\n",
        "  print(\"Pickled clean text found. Loading from pickle file.\")\n",
        "  reviews = pd.read_pickle(CLEAN_TEXT_PICKLE, compression=\"gzip\")\n",
        "else:\n",
        "  print(\"Cleaning reviews\")\n",
        "  tokenizer = nltk.tokenize.RegexpTokenizer(r'\\w+')\n",
        "  reviews['comment'] = reviews['comment'].apply(clean_text)\n",
        "  print(\"Pickling cleaned dataset\")\n",
        "  reviews.to_pickle(CLEAN_TEXT_PICKLE, compression=\"gzip\")\n",
        "\n",
        "gc.collect()\n",
        "display(reviews)"
      ],
      "execution_count": 6,
      "outputs": [
        {
          "output_type": "stream",
          "text": [
            "Pickled clean text found. Loading from pickle file.\n"
          ],
          "name": "stdout"
        },
        {
          "output_type": "display_data",
          "data": {
            "text/html": [
              "<div>\n",
              "<style scoped>\n",
              "    .dataframe tbody tr th:only-of-type {\n",
              "        vertical-align: middle;\n",
              "    }\n",
              "\n",
              "    .dataframe tbody tr th {\n",
              "        vertical-align: top;\n",
              "    }\n",
              "\n",
              "    .dataframe thead th {\n",
              "        text-align: right;\n",
              "    }\n",
              "</style>\n",
              "<table border=\"1\" class=\"dataframe\">\n",
              "  <thead>\n",
              "    <tr style=\"text-align: right;\">\n",
              "      <th></th>\n",
              "      <th>comment</th>\n",
              "      <th>rating</th>\n",
              "    </tr>\n",
              "  </thead>\n",
              "  <tbody>\n",
              "    <tr>\n",
              "      <th>0</th>\n",
              "      <td>[currently, this, sits, list, favorite, game]</td>\n",
              "      <td>10.0</td>\n",
              "    </tr>\n",
              "    <tr>\n",
              "      <th>1</th>\n",
              "      <td>[know, says, how, many, plays, but, many, many...</td>\n",
              "      <td>10.0</td>\n",
              "    </tr>\n",
              "    <tr>\n",
              "      <th>2</th>\n",
              "      <td>[will, never, tire, this, game, awesome]</td>\n",
              "      <td>10.0</td>\n",
              "    </tr>\n",
              "    <tr>\n",
              "      <th>3</th>\n",
              "      <td>[this, probably, the, best, game, ever, played...</td>\n",
              "      <td>10.0</td>\n",
              "    </tr>\n",
              "    <tr>\n",
              "      <th>4</th>\n",
              "      <td>[fantastic, game, got, hooked, games, all, ove...</td>\n",
              "      <td>10.0</td>\n",
              "    </tr>\n",
              "    <tr>\n",
              "      <th>...</th>\n",
              "      <td>...</td>\n",
              "      <td>...</td>\n",
              "    </tr>\n",
              "    <tr>\n",
              "      <th>2638167</th>\n",
              "      <td>[horrible, party, game, dumping, this, one]</td>\n",
              "      <td>3.0</td>\n",
              "    </tr>\n",
              "    <tr>\n",
              "      <th>2638168</th>\n",
              "      <td>[difficult, build, anything, all, with, the, i...</td>\n",
              "      <td>3.0</td>\n",
              "    </tr>\n",
              "    <tr>\n",
              "      <th>2638169</th>\n",
              "      <td>[lego, created, version, pictionary, only, you...</td>\n",
              "      <td>3.0</td>\n",
              "    </tr>\n",
              "    <tr>\n",
              "      <th>2638170</th>\n",
              "      <td>[this, game, very, similar, creationary, comes...</td>\n",
              "      <td>2.5</td>\n",
              "    </tr>\n",
              "    <tr>\n",
              "      <th>2638171</th>\n",
              "      <td>[this, game, was, really, bad, worst, that, pl...</td>\n",
              "      <td>2.0</td>\n",
              "    </tr>\n",
              "  </tbody>\n",
              "</table>\n",
              "<p>2638172 rows × 2 columns</p>\n",
              "</div>"
            ],
            "text/plain": [
              "                                                   comment  rating\n",
              "0            [currently, this, sits, list, favorite, game]    10.0\n",
              "1        [know, says, how, many, plays, but, many, many...    10.0\n",
              "2                 [will, never, tire, this, game, awesome]    10.0\n",
              "3        [this, probably, the, best, game, ever, played...    10.0\n",
              "4        [fantastic, game, got, hooked, games, all, ove...    10.0\n",
              "...                                                    ...     ...\n",
              "2638167        [horrible, party, game, dumping, this, one]     3.0\n",
              "2638168  [difficult, build, anything, all, with, the, i...     3.0\n",
              "2638169  [lego, created, version, pictionary, only, you...     3.0\n",
              "2638170  [this, game, very, similar, creationary, comes...     2.5\n",
              "2638171  [this, game, was, really, bad, worst, that, pl...     2.0\n",
              "\n",
              "[2638172 rows x 2 columns]"
            ]
          },
          "metadata": {
            "tags": []
          }
        }
      ]
    },
    {
      "cell_type": "markdown",
      "metadata": {
        "id": "sWZid0bhoqKt",
        "colab_type": "text"
      },
      "source": [
        "We've gotten rid of most of the oddities in our text data.\n",
        "\n",
        "But, when it comes to such huge models text is present in many forms of speech so it's better to lemmatize them. But, before we do that, let's see how many unique words we currently have."
      ]
    },
    {
      "cell_type": "code",
      "metadata": {
        "id": "ryoUNPDDou95",
        "colab_type": "code",
        "outputId": "4d7c8ce2-3849-4443-c95e-44ea8727a0b3",
        "colab": {
          "base_uri": "https://localhost:8080/",
          "height": 34
        }
      },
      "source": [
        "uniq_words = []\n",
        "\n",
        "unique_words = reviews.explode('comment').comment.nunique()\n",
        "uniq_words.append(unique_words)\n",
        "\n",
        "print(\"Unique words before lemmatizing {}\".format(unique_words))"
      ],
      "execution_count": 7,
      "outputs": [
        {
          "output_type": "stream",
          "text": [
            "Unique words before lemmatizing 313013\n"
          ],
          "name": "stdout"
        }
      ]
    },
    {
      "cell_type": "markdown",
      "metadata": {
        "id": "KTl4S_qLq5Jl",
        "colab_type": "text"
      },
      "source": [
        "Wow, that's a lot of words. Let's see what happens after lemmatizing our reviews."
      ]
    },
    {
      "cell_type": "code",
      "metadata": {
        "id": "o6-cmvFjq4Ug",
        "colab_type": "code",
        "outputId": "73c09eb2-4794-425f-c7a1-95544d6ed491",
        "colab": {
          "base_uri": "https://localhost:8080/",
          "height": 459
        }
      },
      "source": [
        "def lemmatize_data(text):\n",
        "    return [lemmatizer.lemmatize(w) for w in text]\n",
        "\n",
        "if os.path.isfile(LEMMATIZED_PICKLE) or REVIEWS_DATA_CHANGED:\n",
        "  print(\"Pickled lemmatized reviews found. Loading from pickle file.\")\n",
        "  reviews = pd.read_pickle(LEMMATIZED_PICKLE, compression=\"gzip\")\n",
        "else:\n",
        "  print(\"Lemmatizing reviews\")\n",
        "  lemmatizer = nltk.stem.WordNetLemmatizer()\n",
        "  reviews['comment'] = reviews['comment'].apply(lemmatize_data)\n",
        "  print(\"Pickling lemmatized reviews\")\n",
        "  reviews.to_pickle(LEMMATIZED_PICKLE, compression=\"gzip\")\n",
        "\n",
        "display(reviews)\n",
        "gc.collect()\n",
        "\n",
        "unique_words = reviews.explode('comment').comment.nunique()\n",
        "uniq_words.append(unique_words)\n",
        "print(\"Unique words after lemmatizing {}\".format(unique_words))"
      ],
      "execution_count": 8,
      "outputs": [
        {
          "output_type": "stream",
          "text": [
            "Pickled lemmatized reviews found. Loading from pickle file.\n"
          ],
          "name": "stdout"
        },
        {
          "output_type": "display_data",
          "data": {
            "text/html": [
              "<div>\n",
              "<style scoped>\n",
              "    .dataframe tbody tr th:only-of-type {\n",
              "        vertical-align: middle;\n",
              "    }\n",
              "\n",
              "    .dataframe tbody tr th {\n",
              "        vertical-align: top;\n",
              "    }\n",
              "\n",
              "    .dataframe thead th {\n",
              "        text-align: right;\n",
              "    }\n",
              "</style>\n",
              "<table border=\"1\" class=\"dataframe\">\n",
              "  <thead>\n",
              "    <tr style=\"text-align: right;\">\n",
              "      <th></th>\n",
              "      <th>comment</th>\n",
              "      <th>rating</th>\n",
              "    </tr>\n",
              "  </thead>\n",
              "  <tbody>\n",
              "    <tr>\n",
              "      <th>0</th>\n",
              "      <td>[currently, this, sits, list, favorite, game]</td>\n",
              "      <td>10.0</td>\n",
              "    </tr>\n",
              "    <tr>\n",
              "      <th>1</th>\n",
              "      <td>[know, say, how, many, play, but, many, many, ...</td>\n",
              "      <td>10.0</td>\n",
              "    </tr>\n",
              "    <tr>\n",
              "      <th>2</th>\n",
              "      <td>[will, never, tire, this, game, awesome]</td>\n",
              "      <td>10.0</td>\n",
              "    </tr>\n",
              "    <tr>\n",
              "      <th>3</th>\n",
              "      <td>[this, probably, the, best, game, ever, played...</td>\n",
              "      <td>10.0</td>\n",
              "    </tr>\n",
              "    <tr>\n",
              "      <th>4</th>\n",
              "      <td>[fantastic, game, got, hooked, game, all, over...</td>\n",
              "      <td>10.0</td>\n",
              "    </tr>\n",
              "    <tr>\n",
              "      <th>...</th>\n",
              "      <td>...</td>\n",
              "      <td>...</td>\n",
              "    </tr>\n",
              "    <tr>\n",
              "      <th>2638167</th>\n",
              "      <td>[horrible, party, game, dumping, this, one]</td>\n",
              "      <td>3.0</td>\n",
              "    </tr>\n",
              "    <tr>\n",
              "      <th>2638168</th>\n",
              "      <td>[difficult, build, anything, all, with, the, i...</td>\n",
              "      <td>3.0</td>\n",
              "    </tr>\n",
              "    <tr>\n",
              "      <th>2638169</th>\n",
              "      <td>[lego, created, version, pictionary, only, you...</td>\n",
              "      <td>3.0</td>\n",
              "    </tr>\n",
              "    <tr>\n",
              "      <th>2638170</th>\n",
              "      <td>[this, game, very, similar, creationary, come,...</td>\n",
              "      <td>2.5</td>\n",
              "    </tr>\n",
              "    <tr>\n",
              "      <th>2638171</th>\n",
              "      <td>[this, game, wa, really, bad, worst, that, pla...</td>\n",
              "      <td>2.0</td>\n",
              "    </tr>\n",
              "  </tbody>\n",
              "</table>\n",
              "<p>2638172 rows × 2 columns</p>\n",
              "</div>"
            ],
            "text/plain": [
              "                                                   comment  rating\n",
              "0            [currently, this, sits, list, favorite, game]    10.0\n",
              "1        [know, say, how, many, play, but, many, many, ...    10.0\n",
              "2                 [will, never, tire, this, game, awesome]    10.0\n",
              "3        [this, probably, the, best, game, ever, played...    10.0\n",
              "4        [fantastic, game, got, hooked, game, all, over...    10.0\n",
              "...                                                    ...     ...\n",
              "2638167        [horrible, party, game, dumping, this, one]     3.0\n",
              "2638168  [difficult, build, anything, all, with, the, i...     3.0\n",
              "2638169  [lego, created, version, pictionary, only, you...     3.0\n",
              "2638170  [this, game, very, similar, creationary, come,...     2.5\n",
              "2638171  [this, game, wa, really, bad, worst, that, pla...     2.0\n",
              "\n",
              "[2638172 rows x 2 columns]"
            ]
          },
          "metadata": {
            "tags": []
          }
        },
        {
          "output_type": "stream",
          "text": [
            "Unique words after lemmatizing 300678\n"
          ],
          "name": "stdout"
        }
      ]
    },
    {
      "cell_type": "markdown",
      "metadata": {
        "id": "hnAMQ_jE5_zf",
        "colab_type": "text"
      },
      "source": [
        "That's a drastic reduction. This should help reduce the strain on our model. \n",
        "\n",
        "Next, we will be removing our stopwords. But, before we do that, let us have a look at a WordCloud and get a vague idea of what kinds of words we have.\n",
        "\n",
        "To help visualize things better, I will be splitting the reviews into two sets. \n",
        "\n",
        "Any reviews that have a rating less than or equal to 5 we will keep them in the \"negative\" reviews wordcloud and the remaining in a \"positive\" reviews wordcloud."
      ]
    },
    {
      "cell_type": "markdown",
      "metadata": {
        "id": "O-neo_MUtjum",
        "colab_type": "text"
      },
      "source": [
        "Now let's remove the stopwords as well as they are mostly redundant for our training and mainly help us understand context.\n",
        "\n",
        "We do have quite a fair number of custom words to remove and I've identified some custom words that I've added to the list as well."
      ]
    },
    {
      "cell_type": "code",
      "metadata": {
        "id": "eCPC0XU2suZe",
        "colab_type": "code",
        "outputId": "999ded9d-8c65-466b-82f8-2594b50ae01a",
        "colab": {
          "base_uri": "https://localhost:8080/",
          "height": 459
        }
      },
      "source": [
        "def remove_stopwords(text):\n",
        "    words = [\n",
        "        w for w in text if w not in stop_words and w in words_corpus or not w.isalpha()]\n",
        "    words = list(filter(lambda word: len(word)>2, set(words)))\n",
        "    return words\n",
        "\n",
        "if os.path.isfile(STOPWORDS_PICKLE) or REVIEWS_DATA_CHANGED:\n",
        "  print(\"Reading stopwords pickle\")\n",
        "  reviews = pd.read_pickle(STOPWORDS_PICKLE, compression=\"gzip\")\n",
        "else:\n",
        "  words_corpus = set(nltk.corpus.words.words())\n",
        "\n",
        "  stop_words_json = {\"en\":[\"a\", \"a's\", \"able\", \"about\", \"above\", \"according\", \"accordingly\", \"across\", \"actually\", \"after\", \"afterwards\", \"again\", \"against\", \"ain't\", \"aint\", \"all\", \"allow\", \"allows\", \"almost\", \"alone\", \"along\", \"already\", \"also\", \"although\", \"always\", \"am\", \"among\", \"amongst\", \"an\", \"and\", \"another\", \"any\", \"anybody\", \"anyhow\", \"anyone\", \"anything\", \"anyway\", \"anyways\", \"anywhere\", \"apart\", \"appear\", \"appreciate\", \"appropriate\", \"are\", \"aren't\", \"arent\", \"around\", \"as\", \"aside\", \"ask\", \"asking\", \"associated\", \"at\", \"available\", \"away\", \"awfully\", \"b\", \"be\", \"became\", \"because\", \"become\", \"becomes\", \"becoming\", \"been\", \"before\", \"beforehand\", \"behind\", \"being\", \"believe\", \"below\", \"beside\", \"besides\", \"best\", \"better\", \"between\", \"beyond\", \"both\", \"brief\", \"but\", \"by\", \"c\", \"c'mon\", \"cmon\", \"cs\", \"c's\", \"came\", \"can\", \"can't\", \"cannot\", \"cant\", \"cause\", \"causes\", \"certain\", \"certainly\", \"changes\", \"clearly\", \"co\", \"com\", \"come\", \"comes\", \"concerning\", \"consequently\", \"consider\", \"considering\", \"contain\", \"containing\", \"contains\", \"corresponding\", \"could\", \"couldn't\", \"course\", \"currently\", \"d\", \"definitely\", \"described\", \"despite\", \"did\", \"didn't\", \"different\", \"do\", \"does\", \"doesn't\", \"doesn\", \"doing\", \"don't\", \"done\", \"down\", \"downwards\", \"during\", \"e\", \"each\", \"edu\", \"eg\", \"eight\", \"either\", \"else\", \"elsewhere\", \"enough\", \"entirely\", \"especially\", \"et\", \"etc\", \"even\", \"ever\", \"every\", \"everybody\", \"everyone\", \"everything\", \"everywhere\", \"ex\", \"exactly\", \"example\", \"except\", \"f\", \"far\", \"few\", \"fifth\", \"first\", \"five\", \"followed\", \"following\", \"follows\", \"for\", \"former\", \"formerly\", \"forth\", \"four\", \"from\", \"further\", \"furthermore\", \"g\", \"get\", \"gets\", \"getting\", \"given\", \"gives\", \"go\", \"goes\", \"going\", \"gone\", \"got\", \"gotten\", \"greetings\", \"h\", \"had\", \"hadn't\", \"hadnt\", \"happens\", \"hardly\", \"has\", \"hasn't\", \"hasnt\", \"have\", \"haven't\", \"havent\", \"having\", \"he\", \"he's\", \"hes\", \"hello\", \"help\", \"hence\", \"her\", \"here\", \"here's\", \"heres\", \"hereafter\", \"hereby\", \"herein\", \"hereupon\", \"hers\", \"herself\", \"hi\", \"him\", \"himself\", \"his\", \"hither\", \"hopefully\", \"how\", \"howbeit\", \"however\", \"i\", \"i'd\", \"id\", \"i'll\", \"i'm\", \"im\", \"i've\", \"ive\", \"ie\", \"if\", \"ignored\", \"immediate\", \"in\", \"inasmuch\", \"inc\", \"indeed\", \"indicate\", \"indicated\", \"indicates\", \"inner\", \"insofar\", \"instead\", \"into\", \"inward\", \"is\", \"isn't\", \"isnt\", \"it\", \"it'd\", \"itd\", \"it'll\", \"itll\", \"it's\", \"its\", \"itself\", \"j\", \"just\", \"k\", \"keep\", \"keeps\", \"kept\", \"know\", \"known\", \"knows\", \"l\", \"last\", \"lately\", \"later\", \"latter\", \"latterly\", \"least\", \"less\", \"lest\", \"let\", \"let's\", \"lets\", \"like\", \"liked\", \"likely\", \"little\", \"look\", \"looking\", \"looks\", \"ltd\", \"m\", \"mainly\", \"many\", \"may\", \"maybe\", \"me\", \"mean\", \"meanwhile\", \"merely\", \"might\", \"more\", \"moreover\", \"most\", \"mostly\", \"much\", \"must\", \"my\", \"myself\", \"n\", \"name\", \"namely\", \"nd\", \"near\", \"nearly\", \"necessary\", \"need\", \"needs\", \"neither\", \"never\", \"nevertheless\", \"new\", \"next\", \"nine\", \"no\", \"nobody\", \"non\", \"none\", \"noone\", \"nor\", \"normally\", \"not\", \"nothing\", \"novel\", \"now\", \"nowhere\", \"o\", \"obviously\", \"of\", \"off\", \"often\", \"oh\", \"ok\", \"okay\", \"old\", \"on\", \"once\", \"one\", \"ones\", \"only\", \"onto\", \"or\", \"other\", \"others\", \"otherwise\", \"ought\", \"our\", \"ours\", \"ourselves\", \"out\", \"outside\", \"over\", \"overall\", \"own\", \"p\", \"particular\", \"particularly\", \"per\", \"perhaps\", \"placed\", \"please\", \"plus\", \"possible\", \"presumably\", \"probably\", \"provides\", \"q\", \"que\", \"quite\", \"qv\", \"r\", \"rather\", \"rd\", \"re\", \"really\", \"reasonably\", \"regarding\", \"regardless\", \"regards\", \"relatively\", \"respectively\", \"right\", \"s\", \"said\", \"same\", \"saw\", \"say\", \"saying\", \"says\", \"second\", \"secondly\", \"see\", \"seeing\", \"seem\", \"seemed\", \"seeming\", \"seems\", \"seen\", \"self\", \"selves\", \"sensible\", \"sent\", \"serious\", \"seriously\", \"seven\", \"several\", \"shall\", \"she\", \"should\", \"shouldn't\", \"shouldnt\", \"since\", \"six\", \"so\", \"some\", \"somebody\", \"somehow\", \"someone\", \"something\", \"sometime\", \"sometimes\", \"somewhat\", \"somewhere\", \"soon\", \"sorry\", \"specified\", \"specify\", \"specifying\", \"still\", \"sub\", \"such\", \"sup\", \"sure\", \"t\", \"t's\", \"ts\", \"take\", \"taken\", \"tell\", \"tends\", \"th\", \"than\", \"thank\", \"thanks\", \"thanx\", \"that\", \"that's\", \"thats\", \"the\", \"their\", \"theirs\", \"them\", \"themselves\", \"then\", \"thence\", \"there\", \"there's\", \"theres\", \"thereafter\", \"thereby\", \"therefore\", \"therein\", \"theres\", \"thereupon\", \"these\", \"they\", \"they'd\", \"theyd\", \"they'll\", \"theyll\", \"they're\", \"theyre\", \"theyve\", \"they've\", \"think\", \"third\", \"this\", \"thorough\", \"thoroughly\", \"those\", \"though\", \"three\", \"through\", \"throughout\", \"thru\", \"thus\", \"to\", \"together\", \"too\", \"took\", \"toward\", \"towards\", \"tried\", \"tries\", \"truly\", \"try\", \"trying\", \"twice\", \"two\", \"u\", \"un\", \"under\", \"unfortunately\", \"unless\", \"unlikely\", \"until\", \"unto\", \"up\", \"upon\", \"us\", \"use\", \"used\", \"useful\", \"uses\", \"using\", \"usually\", \"uucp\", \"v\", \"value\", \"various\", \"very\", \"via\", \"viz\", \"vs\", \"w\", \"wa\", \"want\", \"wants\", \"was\", \"wasn't\", \"wasnt\", \"way\", \"we\", \"we'd\", \"we'll\", \"we're\", \"we've\", \"weve\", \"welcome\", \"well\", \"went\", \"were\", \"weren't\", \"werent\", \"what\", \"what's\", \"whats\", \"whatever\", \"when\", \"whence\", \"whenever\", \"where\", \"wheres\", \"where's\", \"whereafter\", \"whereas\", \"whereby\", \"wherein\", \"whereupon\", \"wherever\", \"whether\", \"which\", \"while\", \"whither\", \"who\", \"who's\", \"whos\", \"whoever\", \"whole\", \"whom\", \"whose\", \"why\", \"will\", \"willing\", \"wish\", \"with\", \"within\", \"without\", \"won't\", \"wont\", \"wonder\", \"would\", \"wouldn't\", \"wouldny\", \"x\", \"y\", \"yes\", \"yet\", \"you\", \"you'd\", \"youd\", \"you'll\", \"youll\", \"you're\", \"youre\", \"you've\", \"youve\", \"your\", \"yours\", \"yours\", \"yourself\", \"yourselves\", \"z\", \"zero\"]}\n",
        "  stop_words_json_en = set(stop_words_json['en'])\n",
        "\n",
        "  stop_words_nltk_en = set(stopwords.words('english'))\n",
        "\n",
        "  custom_stop_words = [\"rating\", \"ish\", \"havn\", \"dice\", \"end\", \"set\", \"doesnt\", \"give\", \"find\", \"doe\", \"system\", \"tile\", \"table\", \"deck\", \"box\", \"made\", \"part\", \"based\", \"worker\", \"wife\", \"put\", \"havent\", \"game\", \"play\", \"player\", \"one\", \"two\", \"card\", \"ha\", \"wa\", \"dont\", \"board\", \"time\", \"make\", \"rule\", \"thing\", \"version\", \"mechanic\", \"year\", \"theme\", \"rating\", \"family\", \"child\", \"money\", \"edition\", \"collection\", \"piece\", \"wasnt\", \"didnt\"]\n",
        "\n",
        "  stop_words = stop_words_nltk_en.union(stop_words_json_en, custom_stop_words)\n",
        "\n",
        "  print(\"Removing {} stopwords from text\".format(len(stop_words)))\n",
        "  print()\n",
        "\n",
        "  reviews['comment'] = reviews['comment'].apply(remove_stopwords)\n",
        "\n",
        "  print(\"Pickling stopwords data\")\n",
        "  reviews.to_pickle(STOPWORDS_PICKLE, compression=\"gzip\")\n",
        "\n",
        "gc.collect()\n",
        "\n",
        "print(\"After removing stopwords:\")\n",
        "display(reviews)"
      ],
      "execution_count": 9,
      "outputs": [
        {
          "output_type": "stream",
          "text": [
            "Reading stopwords pickle\n",
            "After removing stopwords:\n"
          ],
          "name": "stdout"
        },
        {
          "output_type": "display_data",
          "data": {
            "text/html": [
              "<div>\n",
              "<style scoped>\n",
              "    .dataframe tbody tr th:only-of-type {\n",
              "        vertical-align: middle;\n",
              "    }\n",
              "\n",
              "    .dataframe tbody tr th {\n",
              "        vertical-align: top;\n",
              "    }\n",
              "\n",
              "    .dataframe thead th {\n",
              "        text-align: right;\n",
              "    }\n",
              "</style>\n",
              "<table border=\"1\" class=\"dataframe\">\n",
              "  <thead>\n",
              "    <tr style=\"text-align: right;\">\n",
              "      <th></th>\n",
              "      <th>comment</th>\n",
              "      <th>rating</th>\n",
              "    </tr>\n",
              "  </thead>\n",
              "  <tbody>\n",
              "    <tr>\n",
              "      <th>0</th>\n",
              "      <td>[list, favorite]</td>\n",
              "      <td>10.0</td>\n",
              "    </tr>\n",
              "    <tr>\n",
              "      <th>1</th>\n",
              "      <td>[uncounted]</td>\n",
              "      <td>10.0</td>\n",
              "    </tr>\n",
              "    <tr>\n",
              "      <th>2</th>\n",
              "      <td>[tire, awesome]</td>\n",
              "      <td>10.0</td>\n",
              "    </tr>\n",
              "    <tr>\n",
              "      <th>3</th>\n",
              "      <td>[negotiation, skill, thinking]</td>\n",
              "      <td>10.0</td>\n",
              "    </tr>\n",
              "    <tr>\n",
              "      <th>4</th>\n",
              "      <td>[fantastic, hooked]</td>\n",
              "      <td>10.0</td>\n",
              "    </tr>\n",
              "    <tr>\n",
              "      <th>...</th>\n",
              "      <td>...</td>\n",
              "      <td>...</td>\n",
              "    </tr>\n",
              "    <tr>\n",
              "      <th>2638167</th>\n",
              "      <td>[party, horrible, dumping]</td>\n",
              "      <td>3.0</td>\n",
              "    </tr>\n",
              "    <tr>\n",
              "      <th>2638168</th>\n",
              "      <td>[difficult, included, build]</td>\n",
              "      <td>3.0</td>\n",
              "    </tr>\n",
              "    <tr>\n",
              "      <th>2638169</th>\n",
              "      <td>[create, abstract, fun, limited, number, pictu...</td>\n",
              "      <td>3.0</td>\n",
              "    </tr>\n",
              "    <tr>\n",
              "      <th>2638170</th>\n",
              "      <td>[similar, creationary]</td>\n",
              "      <td>2.5</td>\n",
              "    </tr>\n",
              "    <tr>\n",
              "      <th>2638171</th>\n",
              "      <td>[bad, worst, genre]</td>\n",
              "      <td>2.0</td>\n",
              "    </tr>\n",
              "  </tbody>\n",
              "</table>\n",
              "<p>2638172 rows × 2 columns</p>\n",
              "</div>"
            ],
            "text/plain": [
              "                                                   comment  rating\n",
              "0                                         [list, favorite]    10.0\n",
              "1                                              [uncounted]    10.0\n",
              "2                                          [tire, awesome]    10.0\n",
              "3                           [negotiation, skill, thinking]    10.0\n",
              "4                                      [fantastic, hooked]    10.0\n",
              "...                                                    ...     ...\n",
              "2638167                         [party, horrible, dumping]     3.0\n",
              "2638168                       [difficult, included, build]     3.0\n",
              "2638169  [create, abstract, fun, limited, number, pictu...     3.0\n",
              "2638170                             [similar, creationary]     2.5\n",
              "2638171                                [bad, worst, genre]     2.0\n",
              "\n",
              "[2638172 rows x 2 columns]"
            ]
          },
          "metadata": {
            "tags": []
          }
        }
      ]
    },
    {
      "cell_type": "markdown",
      "metadata": {
        "id": "X4WlHLU6u9eK",
        "colab_type": "text"
      },
      "source": [
        "Let's see what the word count is now"
      ]
    },
    {
      "cell_type": "code",
      "metadata": {
        "id": "jRArrfsluZ7A",
        "colab_type": "code",
        "outputId": "16baad23-dd45-48b7-f977-353f3e3528ce",
        "colab": {
          "base_uri": "https://localhost:8080/",
          "height": 34
        }
      },
      "source": [
        "unique_words = reviews.explode('comment').comment.nunique()\n",
        "uniq_words.append(unique_words)\n",
        "print(unique_words)"
      ],
      "execution_count": 10,
      "outputs": [
        {
          "output_type": "stream",
          "text": [
            "37633\n"
          ],
          "name": "stdout"
        }
      ]
    },
    {
      "cell_type": "markdown",
      "metadata": {
        "id": "uT7RZ8-2vE1d",
        "colab_type": "text"
      },
      "source": [
        "Wow! That a marked difference considering what we started off with. This will definitely help us during our training phase as it reduces training time and computations as well.\n",
        "\n",
        "Moreover, this helps improve our accuracy as we will be targeting important keywords that contribute to a particular sentiment.\n",
        "\n",
        "Let's see what the wordcloud looks like now."
      ]
    },
    {
      "cell_type": "code",
      "metadata": {
        "id": "wcz_ZS-0vX8M",
        "colab_type": "code",
        "outputId": "f047d8a4-9dd0-441f-a58d-325530baa3a5",
        "colab": {
          "base_uri": "https://localhost:8080/",
          "height": 497
        }
      },
      "source": [
        "x = [1, 2, 3]\n",
        "y = [313013, 300678,37633]\n",
        "\n",
        "fig, ax = plt.subplots(figsize=(10,8))\n",
        "ax.plot(x,y, color=\"#663399\")\n",
        "ax.set_ylabel('Unique Words')\n",
        "ax.set_xlabel('Bins')\n",
        "plt.show()"
      ],
      "execution_count": 11,
      "outputs": [
        {
          "output_type": "display_data",
          "data": {
            "image/png": "[encoded data removed]",
            "text/plain": [
              "<Figure size 720x576 with 1 Axes>"
            ]
          },
          "metadata": {
            "tags": [],
            "needs_background": "light"
          }
        }
      ]
    },
    {
      "cell_type": "markdown",
      "metadata": {
        "id": "0JefaKy2xwqK",
        "colab_type": "text"
      },
      "source": [
        "In the process of all this cleaning, there would be several rows that have become empty.\n",
        "\n",
        "Let's remove them and then pickle our dataset so that we don't have to do all this cleaning again."
      ]
    },
    {
      "cell_type": "code",
      "metadata": {
        "id": "rpdHYE9Xu1Zd",
        "colab_type": "code",
        "colab": {
          "base_uri": "https://localhost:8080/",
          "height": 441
        },
        "outputId": "77558a3e-bd56-41c8-b668-0eff7eb94bdd"
      },
      "source": [
        "def drop_empty_reviews(df):\n",
        "    df = df.drop(df[~df.comment.astype(bool)].index)\n",
        "    return df\n",
        "\n",
        "if os.path.isfile(CLEANED_PICKLE) or REVIEWS_DATA_CHANGED:\n",
        "  print(\"Reading cleaned pickle\")\n",
        "  reviews = pd.read_pickle(CLEANED_PICKLE, compression=\"gzip\")\n",
        "else:\n",
        "  reviews = drop_empty_reviews(reviews)\n",
        "  print(\"Pickling cleaned reviews data\")\n",
        "  reviews.to_pickle(CLEANED_PICKLE, compression=\"gzip\")\n",
        "\n",
        "REVIEWS_DATA_CHANGED = False\n",
        "\n",
        "gc.collect()\n",
        "\n",
        "display(reviews)"
      ],
      "execution_count": 12,
      "outputs": [
        {
          "output_type": "stream",
          "text": [
            "Reading cleaned pickle\n"
          ],
          "name": "stdout"
        },
        {
          "output_type": "display_data",
          "data": {
            "text/html": [
              "<div>\n",
              "<style scoped>\n",
              "    .dataframe tbody tr th:only-of-type {\n",
              "        vertical-align: middle;\n",
              "    }\n",
              "\n",
              "    .dataframe tbody tr th {\n",
              "        vertical-align: top;\n",
              "    }\n",
              "\n",
              "    .dataframe thead th {\n",
              "        text-align: right;\n",
              "    }\n",
              "</style>\n",
              "<table border=\"1\" class=\"dataframe\">\n",
              "  <thead>\n",
              "    <tr style=\"text-align: right;\">\n",
              "      <th></th>\n",
              "      <th>comment</th>\n",
              "      <th>rating</th>\n",
              "    </tr>\n",
              "  </thead>\n",
              "  <tbody>\n",
              "    <tr>\n",
              "      <th>0</th>\n",
              "      <td>[list, favorite]</td>\n",
              "      <td>10.0</td>\n",
              "    </tr>\n",
              "    <tr>\n",
              "      <th>1</th>\n",
              "      <td>[uncounted]</td>\n",
              "      <td>10.0</td>\n",
              "    </tr>\n",
              "    <tr>\n",
              "      <th>2</th>\n",
              "      <td>[tire, awesome]</td>\n",
              "      <td>10.0</td>\n",
              "    </tr>\n",
              "    <tr>\n",
              "      <th>3</th>\n",
              "      <td>[negotiation, skill, thinking]</td>\n",
              "      <td>10.0</td>\n",
              "    </tr>\n",
              "    <tr>\n",
              "      <th>4</th>\n",
              "      <td>[fantastic, hooked]</td>\n",
              "      <td>10.0</td>\n",
              "    </tr>\n",
              "    <tr>\n",
              "      <th>...</th>\n",
              "      <td>...</td>\n",
              "      <td>...</td>\n",
              "    </tr>\n",
              "    <tr>\n",
              "      <th>2638167</th>\n",
              "      <td>[party, horrible, dumping]</td>\n",
              "      <td>3.0</td>\n",
              "    </tr>\n",
              "    <tr>\n",
              "      <th>2638168</th>\n",
              "      <td>[difficult, included, build]</td>\n",
              "      <td>3.0</td>\n",
              "    </tr>\n",
              "    <tr>\n",
              "      <th>2638169</th>\n",
              "      <td>[create, abstract, fun, limited, number, pictu...</td>\n",
              "      <td>3.0</td>\n",
              "    </tr>\n",
              "    <tr>\n",
              "      <th>2638170</th>\n",
              "      <td>[similar, creationary]</td>\n",
              "      <td>2.5</td>\n",
              "    </tr>\n",
              "    <tr>\n",
              "      <th>2638171</th>\n",
              "      <td>[bad, worst, genre]</td>\n",
              "      <td>2.0</td>\n",
              "    </tr>\n",
              "  </tbody>\n",
              "</table>\n",
              "<p>2405729 rows × 2 columns</p>\n",
              "</div>"
            ],
            "text/plain": [
              "                                                   comment  rating\n",
              "0                                         [list, favorite]    10.0\n",
              "1                                              [uncounted]    10.0\n",
              "2                                          [tire, awesome]    10.0\n",
              "3                           [negotiation, skill, thinking]    10.0\n",
              "4                                      [fantastic, hooked]    10.0\n",
              "...                                                    ...     ...\n",
              "2638167                         [party, horrible, dumping]     3.0\n",
              "2638168                       [difficult, included, build]     3.0\n",
              "2638169  [create, abstract, fun, limited, number, pictu...     3.0\n",
              "2638170                             [similar, creationary]     2.5\n",
              "2638171                                [bad, worst, genre]     2.0\n",
              "\n",
              "[2405729 rows x 2 columns]"
            ]
          },
          "metadata": {
            "tags": []
          }
        }
      ]
    },
    {
      "cell_type": "markdown",
      "metadata": {
        "id": "9BMmbZ_o42u2",
        "colab_type": "text"
      },
      "source": [
        "Now that we've completed our cleaning, we need to assess what kind of model we should use to predict our ratings.\n",
        "\n",
        "Let's see how many distinct values we have in the ratings column."
      ]
    },
    {
      "cell_type": "code",
      "metadata": {
        "id": "vnw66fR77zMJ",
        "colab_type": "code",
        "colab": {
          "base_uri": "https://localhost:8080/",
          "height": 34
        },
        "outputId": "90edb32b-f255-47aa-b021-e39b0ba1cdd0"
      },
      "source": [
        "reviews.rating.nunique()"
      ],
      "execution_count": 13,
      "outputs": [
        {
          "output_type": "execute_result",
          "data": {
            "text/plain": [
              "3213"
            ]
          },
          "metadata": {
            "tags": []
          },
          "execution_count": 13
        }
      ]
    },
    {
      "cell_type": "markdown",
      "metadata": {
        "id": "r5pGy3M98Bvd",
        "colab_type": "text"
      },
      "source": [
        "We've got 3k+ unique values. This would definitely help us in a Regression model.\n",
        "\n",
        "But, since we will be predicting single digit ratings, I'm going to round off the column. This will allow us to perform both regression and classification and choose what give's us a better result.\n",
        "\n",
        "Do note that rounding off generally isn't recommended as it leads to loss of information and will affect the outcome.\n",
        "\n",
        "I'm only doing this due to computational constraints. You should see better results in Regression models without rounding the values."
      ]
    },
    {
      "cell_type": "code",
      "metadata": {
        "id": "dYUPLRE587jo",
        "colab_type": "code",
        "colab": {
          "base_uri": "https://localhost:8080/",
          "height": 424
        },
        "outputId": "19b1d4d3-1d6e-4762-cedf-bb91eb7c07ce"
      },
      "source": [
        "reviews.rating = reviews.rating.round().astype(int)\n",
        "\n",
        "reviews"
      ],
      "execution_count": 14,
      "outputs": [
        {
          "output_type": "execute_result",
          "data": {
            "text/html": [
              "<div>\n",
              "<style scoped>\n",
              "    .dataframe tbody tr th:only-of-type {\n",
              "        vertical-align: middle;\n",
              "    }\n",
              "\n",
              "    .dataframe tbody tr th {\n",
              "        vertical-align: top;\n",
              "    }\n",
              "\n",
              "    .dataframe thead th {\n",
              "        text-align: right;\n",
              "    }\n",
              "</style>\n",
              "<table border=\"1\" class=\"dataframe\">\n",
              "  <thead>\n",
              "    <tr style=\"text-align: right;\">\n",
              "      <th></th>\n",
              "      <th>comment</th>\n",
              "      <th>rating</th>\n",
              "    </tr>\n",
              "  </thead>\n",
              "  <tbody>\n",
              "    <tr>\n",
              "      <th>0</th>\n",
              "      <td>[list, favorite]</td>\n",
              "      <td>10</td>\n",
              "    </tr>\n",
              "    <tr>\n",
              "      <th>1</th>\n",
              "      <td>[uncounted]</td>\n",
              "      <td>10</td>\n",
              "    </tr>\n",
              "    <tr>\n",
              "      <th>2</th>\n",
              "      <td>[tire, awesome]</td>\n",
              "      <td>10</td>\n",
              "    </tr>\n",
              "    <tr>\n",
              "      <th>3</th>\n",
              "      <td>[negotiation, skill, thinking]</td>\n",
              "      <td>10</td>\n",
              "    </tr>\n",
              "    <tr>\n",
              "      <th>4</th>\n",
              "      <td>[fantastic, hooked]</td>\n",
              "      <td>10</td>\n",
              "    </tr>\n",
              "    <tr>\n",
              "      <th>...</th>\n",
              "      <td>...</td>\n",
              "      <td>...</td>\n",
              "    </tr>\n",
              "    <tr>\n",
              "      <th>2638167</th>\n",
              "      <td>[party, horrible, dumping]</td>\n",
              "      <td>3</td>\n",
              "    </tr>\n",
              "    <tr>\n",
              "      <th>2638168</th>\n",
              "      <td>[difficult, included, build]</td>\n",
              "      <td>3</td>\n",
              "    </tr>\n",
              "    <tr>\n",
              "      <th>2638169</th>\n",
              "      <td>[create, abstract, fun, limited, number, pictu...</td>\n",
              "      <td>3</td>\n",
              "    </tr>\n",
              "    <tr>\n",
              "      <th>2638170</th>\n",
              "      <td>[similar, creationary]</td>\n",
              "      <td>2</td>\n",
              "    </tr>\n",
              "    <tr>\n",
              "      <th>2638171</th>\n",
              "      <td>[bad, worst, genre]</td>\n",
              "      <td>2</td>\n",
              "    </tr>\n",
              "  </tbody>\n",
              "</table>\n",
              "<p>2405729 rows × 2 columns</p>\n",
              "</div>"
            ],
            "text/plain": [
              "                                                   comment  rating\n",
              "0                                         [list, favorite]      10\n",
              "1                                              [uncounted]      10\n",
              "2                                          [tire, awesome]      10\n",
              "3                           [negotiation, skill, thinking]      10\n",
              "4                                      [fantastic, hooked]      10\n",
              "...                                                    ...     ...\n",
              "2638167                         [party, horrible, dumping]       3\n",
              "2638168                       [difficult, included, build]       3\n",
              "2638169  [create, abstract, fun, limited, number, pictu...       3\n",
              "2638170                             [similar, creationary]       2\n",
              "2638171                                [bad, worst, genre]       2\n",
              "\n",
              "[2405729 rows x 2 columns]"
            ]
          },
          "metadata": {
            "tags": []
          },
          "execution_count": 14
        }
      ]
    },
    {
      "cell_type": "markdown",
      "metadata": {
        "id": "9TKpYJc69V8h",
        "colab_type": "text"
      },
      "source": [
        "We should have 11 distinct values (0 to 10) after this. Let's see how how many ratings of each category we have."
      ]
    },
    {
      "cell_type": "code",
      "metadata": {
        "id": "n4IUQ8Gb9o4a",
        "colab_type": "code",
        "colab": {
          "base_uri": "https://localhost:8080/",
          "height": 225
        },
        "outputId": "e65a3194-d6d7-4753-b92d-39cb73e5bd62"
      },
      "source": [
        "reviews.rating.value_counts()"
      ],
      "execution_count": 15,
      "outputs": [
        {
          "output_type": "execute_result",
          "data": {
            "text/plain": [
              "8     595145\n",
              "7     520442\n",
              "6     480153\n",
              "9     219429\n",
              "5     200143\n",
              "10    140037\n",
              "4     127085\n",
              "3      66466\n",
              "2      38184\n",
              "1      18634\n",
              "0         11\n",
              "Name: rating, dtype: int64"
            ]
          },
          "metadata": {
            "tags": []
          },
          "execution_count": 15
        }
      ]
    },
    {
      "cell_type": "markdown",
      "metadata": {
        "id": "fWqBsfCdFyHB",
        "colab_type": "text"
      },
      "source": [
        "We can see that we have less than 50 reviews with a zero rating. Their contribution is fairly negligible so we're going to remove them."
      ]
    },
    {
      "cell_type": "code",
      "metadata": {
        "id": "t-HRN2xAFpDg",
        "colab_type": "code",
        "colab": {
          "base_uri": "https://localhost:8080/",
          "height": 34
        },
        "outputId": "119928fd-32e9-485b-95e8-79be578eede1"
      },
      "source": [
        "class_distrib = reviews.rating.value_counts(ascending=True)\n",
        "classes_to_drop = class_distrib[class_distrib < 50].index.values\n",
        "\n",
        "for rating in classes_to_drop:\n",
        "  rows_to_drop = reviews[reviews.rating == rating].index.to_list()\n",
        "  reviews.drop(rows_to_drop, inplace=True)\n",
        "  print(\"We have {} reviews remaining\".format(reviews.shape))"
      ],
      "execution_count": 16,
      "outputs": [
        {
          "output_type": "stream",
          "text": [
            "We have (2405718, 2) reviews remaining\n"
          ],
          "name": "stdout"
        }
      ]
    },
    {
      "cell_type": "markdown",
      "metadata": {
        "id": "t2c9Os-6GqrY",
        "colab_type": "text"
      },
      "source": [
        "Let's visualize the distribution of ratings a bit better by using a histogram"
      ]
    },
    {
      "cell_type": "code",
      "metadata": {
        "id": "fQWhpZamFiAK",
        "colab_type": "code",
        "colab": {
          "base_uri": "https://localhost:8080/",
          "height": 497
        },
        "outputId": "43f4ca70-a09d-4877-d0f1-a17392ce8301"
      },
      "source": [
        "fig, ax = plt.subplots(figsize=(10,8))\n",
        "sns.barplot(reviews.rating.value_counts().index, reviews.rating.value_counts(), color=\"#663399\")\n",
        "ax.set_xlabel(\"Rating\")\n",
        "ax.set_ylabel(\"Count\")\n",
        "fig.show()"
      ],
      "execution_count": 17,
      "outputs": [
        {
          "output_type": "display_data",
          "data": {
            "image/png": "[encoded data removed]",
            "text/plain": [
              "<Figure size 720x576 with 1 Axes>"
            ]
          },
          "metadata": {
            "tags": [],
            "needs_background": "light"
          }
        }
      ]
    },
    {
      "cell_type": "markdown",
      "metadata": {
        "id": "WeaRg-sAG9Qs",
        "colab_type": "text"
      },
      "source": [
        "Looks like the data is following somewhat of a normal distribution. Most of the reviews lie between 6 to 9. This will definitely bias the model as the dataset is imbalanced.\n",
        "\n",
        "Now that we have a vague idea about or course of action, let's split the dataset for training and testing. We will be sampling this data mainly due to the volume and computational constraints."
      ]
    },
    {
      "cell_type": "code",
      "metadata": {
        "id": "M8rS42hGH18r",
        "colab_type": "code",
        "colab": {
          "base_uri": "https://localhost:8080/",
          "height": 69
        },
        "outputId": "56f997e3-e652-4b2b-d1bd-a719bd048db7"
      },
      "source": [
        "# 10% dataset for training\n",
        "train_size = 0.1\n",
        "\n",
        "X_train, X_test, y_train, y_test = train_test_split(reviews.comment, reviews.rating, train_size=0.1, test_size=0.1)\n",
        "X_dev, X_test, y_dev, y_test = train_test_split(X_test, y_test, train_size=0.5)\n",
        "\n",
        "X_train = X_train.apply(' '.join)\n",
        "X_dev = X_dev.apply(' '.join)\n",
        "X_test = X_test.apply(' '.join)\n",
        "\n",
        "gc.collect()\n",
        "\n",
        "print(\"Number of records chosen for training: {}\".format(X_train.shape[0]))\n",
        "print(\"Number of records chosen for development: {}\".format(X_dev.shape[0]))\n",
        "print(\"Number of records chosen for testing: {}\".format(X_test.shape[0]))"
      ],
      "execution_count": 18,
      "outputs": [
        {
          "output_type": "stream",
          "text": [
            "Number of records chosen for training: 240571\n",
            "Number of records chosen for development: 120286\n",
            "Number of records chosen for testing: 120286\n"
          ],
          "name": "stdout"
        }
      ]
    },
    {
      "cell_type": "markdown",
      "metadata": {
        "id": "FKOvKZwHX9q-",
        "colab_type": "text"
      },
      "source": [
        "Great! We've got that sorted. Since we have 10 unique values in ratings and we're dealing with text, let's start off with a Multinomial Naive Bayes Classifier.\n",
        "\n",
        "But, before we do that, we need to calculate the TF-IDF values for our reviews. \n",
        "\n",
        "TF is the term-frequency for every word in the review i.e. the number of times a word has appeared in a review. This is fairly straightforward to calculate by using a counter per review.\n",
        "\n",
        "IDF (Inverse Document Frequency) is slightly more trickier. Essentially, IDF is the weight of a word across all reviews. It is a measure of how common or rare a word is across the corpus. This helps us understand which words need to be prioritized over others. The closer IDF is to 0, the more common it is and the lesser it will contribute to the model. We need to target words that have a weight closer to 1 as they contribute the most.\n",
        "\n",
        "This can be calculated by taking the total number of reviews, dividing it by the number of reviews that contain a word, and calculating the logarithm just to balance large numbers that can arise.\n",
        "\n",
        "\n",
        "**********"
      ]
    },
    {
      "cell_type": "code",
      "metadata": {
        "id": "bLaW6kGP_HLS",
        "colab_type": "code",
        "colab": {}
      },
      "source": [
        "vectorizer = TfidfVectorizer()\n",
        "\n",
        "X_train_vec = vectorizer.fit_transform(X_train)\n",
        "\n",
        "X_dev_vec = vectorizer.transform(X_dev)\n",
        "X_test_vec = vectorizer.transform(X_test)"
      ],
      "execution_count": 0,
      "outputs": []
    },
    {
      "cell_type": "code",
      "metadata": {
        "id": "Hp5G4u9sbBY2",
        "colab_type": "code",
        "colab": {
          "base_uri": "https://localhost:8080/",
          "height": 34
        },
        "outputId": "9f51fe0c-19cf-4c92-d5d0-46c1ec7eb210"
      },
      "source": [
        "mnbc = MultinomialNB()\n",
        "\n",
        "mnbc.fit(X_train_vec, y_train)\n",
        "\n",
        "mnbc_predicted = mnbc.predict(X_dev_vec)\n",
        "\n",
        "mnbc_accuracy = round(accuracy_score(mnbc_predicted, y_dev) * 100, 2)\n",
        "mnbc_report = classification_report(y_dev, mnbc_predicted, digits=4, zero_division=False)\n",
        "\n",
        "gc.collect()\n",
        "\n",
        "print(mnbc_accuracy)"
      ],
      "execution_count": 20,
      "outputs": [
        {
          "output_type": "stream",
          "text": [
            "29.36\n"
          ],
          "name": "stdout"
        }
      ]
    },
    {
      "cell_type": "code",
      "metadata": {
        "id": "zYkStDMdgd21",
        "colab_type": "code",
        "colab": {
          "base_uri": "https://localhost:8080/",
          "height": 852
        },
        "outputId": "73ce38d2-79f7-418d-e53b-32f750eb3e7f"
      },
      "source": [
        "cm = confusion_matrix(y_dev, mnbc_predicted, normalize='all')\n",
        "\n",
        "fig, ax = plt.subplots(figsize=(15,15))\n",
        "sns.heatmap(cm, annot=True, linewidths=0.5, ax=ax, cmap=\"Purples\", linecolor=\"#663399\", fmt=\"f\", square=True)\n",
        "fig.show()"
      ],
      "execution_count": 21,
      "outputs": [
        {
          "output_type": "display_data",
          "data": {
            "image/png": "[encoded data removed]",
            "text/plain": [
              "<Figure size 1080x1080 with 2 Axes>"
            ]
          },
          "metadata": {
            "tags": [],
            "needs_background": "light"
          }
        }
      ]
    },
    {
      "cell_type": "markdown",
      "metadata": {
        "id": "UhKiqlURJYbu",
        "colab_type": "text"
      },
      "source": [
        "Let's see how well our model works for a few real-world reviews"
      ]
    },
    {
      "cell_type": "code",
      "metadata": {
        "id": "jumjZjstJYvo",
        "colab_type": "code",
        "colab": {
          "base_uri": "https://localhost:8080/",
          "height": 34
        },
        "outputId": "1e5dd8ec-2aad-4bb6-e8d3-a8cbd2309cdb"
      },
      "source": [
        "def check_real_review_predictions(model, vectorizer):\n",
        "  review1 = \"This game is absolutely pathetic. Horrible story and characters. Will never play this game again.\"\n",
        "  review2 = \"Worst.\"\n",
        "  review3 = \"One of the best games I've ever played. Amazing story and characters. Recommended.\"\n",
        "  review4 = \"good.\"\n",
        "\n",
        "  test_vectorizer = TfidfVectorizer(vocabulary=vectorizer.vocabulary_)\n",
        "  vectorized_review = test_vectorizer.fit_transform([review1, review2, review3, review4])\n",
        "  predicted = model.predict(vectorized_review)\n",
        "  return predicted\n",
        "\n",
        "preds = check_real_review_predictions(mnbc, vectorizer)\n",
        "preds"
      ],
      "execution_count": 22,
      "outputs": [
        {
          "output_type": "execute_result",
          "data": {
            "text/plain": [
              "array([8, 6, 8, 7])"
            ]
          },
          "metadata": {
            "tags": []
          },
          "execution_count": 22
        }
      ]
    },
    {
      "cell_type": "markdown",
      "metadata": {
        "id": "13a8khZjJuvZ",
        "colab_type": "text"
      },
      "source": [
        "Well, this is exactly what we feared. All our ratings are between 6 to 8.\n",
        "\n",
        "Looks like our model is being biased by our input data. I've got a feeling that some form of regression would work slighlty better here. Let's give Linear Regression a shot."
      ]
    },
    {
      "cell_type": "code",
      "metadata": {
        "id": "xpXk8F1hTXwz",
        "colab_type": "code",
        "colab": {
          "base_uri": "https://localhost:8080/",
          "height": 34
        },
        "outputId": "8489bff6-2f58-4d9d-f457-becbd469e897"
      },
      "source": [
        "linreg = LinearRegression(n_jobs=4)\n",
        "\n",
        "linreg.fit(X_train_vec, y_train)\n",
        "\n",
        "linreg_predicted = linreg.predict(X_dev_vec)\n",
        "\n",
        "linreg_accuracy_round = round(accuracy_score(np.round(linreg_predicted), y_dev) * 100, 2)\n",
        "\n",
        "gc.collect()\n",
        "\n",
        "print(linreg_accuracy_round)"
      ],
      "execution_count": 23,
      "outputs": [
        {
          "output_type": "stream",
          "text": [
            "27.33\n"
          ],
          "name": "stdout"
        }
      ]
    },
    {
      "cell_type": "markdown",
      "metadata": {
        "id": "xx3B_fEhUUvT",
        "colab_type": "text"
      },
      "source": [
        "The accuracy is a little worse but let's check with some of our reviews before we dismiss this idea."
      ]
    },
    {
      "cell_type": "code",
      "metadata": {
        "id": "xxb4CxZWTgRZ",
        "colab_type": "code",
        "colab": {
          "base_uri": "https://localhost:8080/",
          "height": 34
        },
        "outputId": "ed33ed58-9f90-4fd1-8239-08303e2211b1"
      },
      "source": [
        "preds = check_real_review_predictions(linreg, vectorizer)\n",
        "preds"
      ],
      "execution_count": 24,
      "outputs": [
        {
          "output_type": "execute_result",
          "data": {
            "text/plain": [
              "array([4.53441281, 1.96373693, 9.0723922 , 7.04723663])"
            ]
          },
          "metadata": {
            "tags": []
          },
          "execution_count": 24
        }
      ]
    },
    {
      "cell_type": "markdown",
      "metadata": {
        "id": "OXvo5-h3Uhgp",
        "colab_type": "text"
      },
      "source": [
        "Perfect. Looks like we are on the right track. Since this is mainly a classification problem, Logistic Regression would be a better fit here. Let's try that."
      ]
    },
    {
      "cell_type": "code",
      "metadata": {
        "id": "ZcNe9YLbL7jm",
        "colab_type": "code",
        "colab": {
          "base_uri": "https://localhost:8080/",
          "height": 34
        },
        "outputId": "db9b9dbb-9da2-4445-a1fb-8fd012e59d4c"
      },
      "source": [
        "logreg = LogisticRegression(n_jobs=4)\n",
        "\n",
        "logreg.fit(X_train_vec, y_train)\n",
        "\n",
        "logreg_predicted = logreg.predict(X_dev_vec)\n",
        "\n",
        "logreg_accuracy = round(accuracy_score(logreg_predicted, y_dev) * 100, 2)\n",
        "logreg_report = classification_report(y_dev, logreg_predicted, digits=4, zero_division=False)\n",
        "\n",
        "gc.collect()\n",
        "\n",
        "print(logreg_accuracy)"
      ],
      "execution_count": 25,
      "outputs": [
        {
          "output_type": "stream",
          "text": [
            "29.9\n"
          ],
          "name": "stdout"
        }
      ]
    },
    {
      "cell_type": "markdown",
      "metadata": {
        "id": "RMTDZkFUOVDt",
        "colab_type": "text"
      },
      "source": [
        "While our acurracy is better, our solution hasn't fully converged. Let's increase the max iterations and see if our solution converges. The default value is 100 so we will be increasing it to 1000."
      ]
    },
    {
      "cell_type": "code",
      "metadata": {
        "id": "ZPeGTkzfOSE_",
        "colab_type": "code",
        "colab": {
          "base_uri": "https://localhost:8080/",
          "height": 34
        },
        "outputId": "efd980ba-57a4-4baf-cfdd-1ce3f43c72f3"
      },
      "source": [
        "logreg = LogisticRegression(max_iter=1000, n_jobs=4)\n",
        "\n",
        "logreg.fit(X_train_vec, y_train)\n",
        "\n",
        "logreg_predicted = logreg.predict(X_dev_vec)\n",
        "\n",
        "logreg_accuracy = round(accuracy_score(logreg_predicted, y_dev) * 100, 2)\n",
        "logreg_report = classification_report(y_dev, logreg_predicted, digits=4, zero_division=False)\n",
        "\n",
        "gc.collect()\n",
        "\n",
        "print(logreg_accuracy)"
      ],
      "execution_count": 26,
      "outputs": [
        {
          "output_type": "stream",
          "text": [
            "30.04\n"
          ],
          "name": "stdout"
        }
      ]
    },
    {
      "cell_type": "markdown",
      "metadata": {
        "id": "0P9q025xlme4",
        "colab_type": "text"
      },
      "source": [
        "While we did lose some accuracy, our solution has converged. Let's see how it classifies our reviews."
      ]
    },
    {
      "cell_type": "code",
      "metadata": {
        "id": "jdUHicUvPVx6",
        "colab_type": "code",
        "colab": {
          "base_uri": "https://localhost:8080/",
          "height": 34
        },
        "outputId": "ee0d061a-4956-482f-9635-28f4310ec571"
      },
      "source": [
        "preds = check_real_review_predictions(logreg, vectorizer)\n",
        "preds"
      ],
      "execution_count": 27,
      "outputs": [
        {
          "output_type": "execute_result",
          "data": {
            "text/plain": [
              "array([ 2,  1, 10,  7])"
            ]
          },
          "metadata": {
            "tags": []
          },
          "execution_count": 27
        }
      ]
    },
    {
      "cell_type": "markdown",
      "metadata": {
        "id": "E6hL55YelwMy",
        "colab_type": "text"
      },
      "source": [
        "Perfect! These ratings correspond somewhat to what we were expecting. We will pickle this model and the vocabulary of the TF-IDF vectorizer. This will be used in the Flask application that we will be building."
      ]
    },
    {
      "cell_type": "code",
      "metadata": {
        "id": "fGtal82vO3lx",
        "colab_type": "code",
        "colab": {}
      },
      "source": [
        "pickle.dump(vectorizer.vocabulary_, open(DATA_DIR + 'vocab.pkl', \"wb\"))\n",
        "pickle.dump(logreg, open(DATA_DIR + 'model.pkl', \"wb\"))"
      ],
      "execution_count": 0,
      "outputs": []
    },
    {
      "cell_type": "markdown",
      "metadata": {
        "id": "yTWVBykHO4GO",
        "colab_type": "text"
      },
      "source": [
        "## My contribution\n",
        "\n",
        "Built a Flask application that predicts the rating of any review. Please visit the page [here](https://karanr.dev/rating-predictor) and enter a review. You should see the prediction for that review. This application has been deployed on Heroku and the form is available on my Portfolio website that is built using GatsbyJS. The code for this application is available on my [GitHub](https://).\n",
        "\n",
        "You can also see a demo of this application on [YouTube](https://)\n",
        "\n",
        "A copy of the dataset and it's pickle files are available [here](https://)"
      ]
    }
  ]
}